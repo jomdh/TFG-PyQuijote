{
 "cells": [
  {
   "cell_type": "code",
   "execution_count": 10,
   "id": "b23adefe",
   "metadata": {},
   "outputs": [],
   "source": [
    "# %pip install wget\n",
    "# !python -m wget  https://www.gutenberg.org/cache/epub/2000/pg2000.txt"
   ]
  },
  {
   "cell_type": "code",
   "execution_count": null,
   "id": "0749bf22",
   "metadata": {},
   "outputs": [],
   "source": []
  },
  {
   "cell_type": "code",
   "execution_count": 11,
   "id": "c1fa72f9-21b3-41ff-944c-970ae5d4b5c8",
   "metadata": {},
   "outputs": [],
   "source": [
    "\n",
    "# importamos las librerías necesarias\n",
    "\n",
    "import time\n",
    "import pandas as pd\n",
    "import numpy as np\n",
    "from pathlib import Path\n",
    "import itertools\n",
    "from textwrap import wrap\n",
    "\n",
    "import decimal\n",
    "# importamos el algoritmo de Chudnovsky de implementations/chudnovsky_altorendimiento.py\n",
    "from implementations.chudnovsky_altorendimiento import pi_chudnovsky_bs\n",
    "\n",
    "\n",
    "\n"
   ]
  },
  {
   "cell_type": "code",
   "execution_count": 12,
   "id": "206e7552-a420-4621-8e4c-34fab867aeaa",
   "metadata": {},
   "outputs": [
    {
     "data": {
      "text/plain": [
       "True"
      ]
     },
     "execution_count": 12,
     "metadata": {},
     "output_type": "execute_result"
    }
   ],
   "source": [
    "# importamos el archivo de texto del Quijote de la web de Gutenberg\n",
    "# !python -m wget  https://www.gutenberg.org/cache/epub/2000/pg2000.txt\n",
    "\n",
    "# definimos la ruta del archivo\n",
    "recursos = Path.cwd() / \"recursos\"\n",
    "\n",
    "quijote_file = recursos / 'primer_capitulo.txt'\n",
    "quijote_file.exists()\n",
    "\n"
   ]
  },
  {
   "cell_type": "code",
   "execution_count": 13,
   "id": "8507ed2e",
   "metadata": {},
   "outputs": [
    {
     "name": "stdout",
     "output_type": "stream",
     "text": [
      "{'?', 'H', 'e', 'a', 'h', 'Q', '-', 'o', ' ', \"'\", '¡', 'ñ', ',', 'U', 'á', 'ü', 'F', ':', 'R', 'c', 'S', 'P', 'd', 'í', 'i', 'T', 't', 'm', 'f', '!', 'y', 'N', 'q', 'l', 'O', 'b', 's', 'L', 'v', 'A', '¿', 'r', 'é', 'I', 'B', '.', 'G', 'z', 'p', 'C', 'n', ';', 'M', 'ú', 'x', 'Y', '\\n', 'g', 'D', 'u', 'j', 'E', 'ó'}\n",
      "63\n",
      "10378\n"
     ]
    }
   ],
   "source": [
    "# sea k el número de dígitos de precisión que se quieren calcular.\n",
    "# este valor debe ser como máximo, el producto de n y el número total de caracteres del texto.\n",
    "\n",
    "# por ejemplo, si n = 2, y el texto tiene 1000 caracteres, k = 2000.\n",
    "# calcularemos el numero total de caracteres del texto\n",
    "\n",
    "# abrimos el quijote como utf-8-sig, para evitar errores de codificación.    \n",
    "with open(quijote_file, 'r', encoding='utf-8-sig') as file:\n",
    "    # omitimos el copyright y los metadatos, para quedarnos solo con el texto íntegro de la obra.\n",
    "    # leemos despues del caracter 27 hasta la línea -372.\n",
    "    quijote_data = file.readlines()[36:-372]\n",
    "\n",
    "# unimos todas las líneas en una sola cadena de texto.\n",
    "quijote_data = ''.join(quijote_data)\n",
    "\n",
    "# contamos los caracteres unicos del texto\n",
    "caracteres = set(quijote_data)\n",
    "# imprimimos los caracteres unicos\n",
    "print(caracteres)\n",
    "# imprimimos el número de caracteres unicos\n",
    "print(len(caracteres))\n",
    "\n",
    "# longitud en caracteres del texto\n",
    "l = len(quijote_data)\n",
    "print(l)"
   ]
  },
  {
   "cell_type": "code",
   "execution_count": 14,
   "id": "571022eb-8243-4a00-b3f4-b331e030cba3",
   "metadata": {},
   "outputs": [
    {
     "name": "stdout",
     "output_type": "stream",
     "text": [
      "el texto contiene 10378 caractereres, su alfabeto tiene 63 caracteres unicos\n",
      "por tanto, el valor de n debe ser como minimo 2\n"
     ]
    }
   ],
   "source": [
    "# longitud en caracteres de cada trozo de pi. como minimo dos, \n",
    "# ya que el alfabeto y todos los caracteres imprimibles pueden rondar los 100\n",
    "\n",
    "# por tanto, n será como minimo, el valor del orden de magnitud superior de n.\n",
    "\n",
    "print (\"el texto contiene %s caractereres, su alfabeto tiene %s caracteres unicos\" % (l, len(caracteres)))\n",
    "print (\"por tanto, el valor de n debe ser como minimo %s\" % len(str(len(caracteres))))\n",
    "n = len(str(len(caracteres)))\n",
    "\n",
    "# de encontrar una solución con esta longitud, estaríamos muy cerca de la solución optima.\n",
    "# si no se encuentra una solución, se incrementa el valor de n en 1 y se vuelve a intentar.\n",
    "# si se encuentra una solución, se imprime el valor de n y el tiempo que ha tardado en encontrarla."
   ]
  },
  {
   "cell_type": "code",
   "execution_count": 15,
   "id": "df8bbdf7",
   "metadata": {},
   "outputs": [
    {
     "name": "stdout",
     "output_type": "stream",
     "text": [
      "decimales de pi necesarios = n * l = 2 * 10378 = 20756\n",
      "redondeado = 30000\n"
     ]
    }
   ],
   "source": [
    "# tenemos ya por tanto, una estimación del numero de decimales de pi que necesitamos \n",
    "# para nuestra primera aproximación.\n",
    "\n",
    "print (\"decimales de pi necesarios = n * l = %s * %s = %s\" % (n, l, n*l))\n",
    "\n",
    "# por conveniencia, redondeamos el valor de n*l al siguiente valor dentro del orden de magnitud.\n",
    "# para ello primero calculamos el log10 de n*l, y luego redondeamos hacia abajo.\n",
    "\n",
    "# calculamos el log10 de n*l\n",
    "log10 = decimal.Decimal(n*l).log10()\n",
    "# redondeamos hacia abajo, quedandonos con el valor entero, para obtener el orden de magnitud.\n",
    "exp = int(log10)\n",
    "\n",
    "# calculamos el valor de k\n",
    "k = int(n*l / 10**exp) + 1\n",
    "k_r =(k * 10**exp)\n",
    "print (\"redondeado = %s\" % k_r)\n",
    "\n",
    "\n"
   ]
  },
  {
   "cell_type": "code",
   "execution_count": 16,
   "id": "94c35222",
   "metadata": {},
   "outputs": [],
   "source": [
    "# generamos esa misma cantidad de decimales de pi\n",
    "# para ello, usamos el algoritmo de Chudnovsky, que hemos importado al principio del notebook.\n",
    "\n",
    "pi = pi_chudnovsky_bs(k_r)\n",
    "\n",
    "decimal.getcontext().prec = k_r\n",
    "# imprimimos los decimales de pi, sin la parte entera\n",
    "pi  = decimal.Decimal(pi) + 0\n",
    "\n",
    "\n",
    "\n",
    "\n"
   ]
  },
  {
   "cell_type": "code",
   "execution_count": 17,
   "id": "dbbabf16-f1b7-4cc9-a2eb-729c8fc65e1e",
   "metadata": {},
   "outputs": [
    {
     "name": "stdout",
     "output_type": "stream",
     "text": [
      "0.0010013580322265625\n"
     ]
    }
   ],
   "source": [
    "# mapeamos los decimales de pi en trozos de n-elementos\n",
    "# itertools.zip_longest se encarga de los impares sueltos\n",
    "\n",
    "start = time.time()\n",
    "# \n",
    "b = map(''.join, itertools.zip_longest(*[iter(str(pi)[2:])]*n, fillvalue=''))\n",
    "end = time.time()\n",
    "print(end - start)\n",
    "\n",
    "# imprimimos los trozos de pi\n",
    "# print (list(b))"
   ]
  },
  {
   "cell_type": "code",
   "execution_count": 18,
   "id": "9ffcf104-6437-416c-b1c0-12cc2e14a1b3",
   "metadata": {},
   "outputs": [],
   "source": [
    "# tantos trozos de pi como caracteres totales en texto\n",
    "nlist = list(b)[:l]\n",
    "# print(nlist)\n"
   ]
  },
  {
   "cell_type": "code",
   "execution_count": 19,
   "id": "64ba612b-ea6b-49a3-8cfe-bc48c3d60e7c",
   "metadata": {},
   "outputs": [
    {
     "name": "stdout",
     "output_type": "stream",
     "text": [
      "not valid\n"
     ]
    }
   ],
   "source": [
    "# búsqueda: intenta crear un diccionario key:value en el que todo key sea único.\n",
    "# si no lo consigue, sale del bucle.\n",
    "# esta es una versión académica, pero se puede hacer más elegante.\n",
    "\n",
    "res2 = {}\n",
    "i=0\n",
    "for key in nlist:\n",
    "    if not key in res2:\n",
    "        res2[key] = quijote_data[i]\n",
    "    else:\n",
    "        if res2[key] == quijote_data[i]:\n",
    "            continue\n",
    "        else:\n",
    "            print ('not valid')\n",
    "            break\n",
    "    i = i+1"
   ]
  },
  {
   "cell_type": "code",
   "execution_count": 20,
   "id": "ba0bb205-f362-4e39-a750-99ae192fc490",
   "metadata": {},
   "outputs": [
    {
     "data": {
      "text/plain": [
       "{'14': '\\n',\n",
       " '15': 'E',\n",
       " '92': 'n',\n",
       " '65': ' ',\n",
       " '35': 'u',\n",
       " '89': 'n',\n",
       " '79': ' ',\n",
       " '32': 'l',\n",
       " '38': 'u',\n",
       " '46': 'g',\n",
       " '26': 'a',\n",
       " '43': 'r'}"
      ]
     },
     "execution_count": 20,
     "metadata": {},
     "output_type": "execute_result"
    }
   ],
   "source": [
    "res2\n"
   ]
  },
  {
   "cell_type": "code",
   "execution_count": 21,
   "id": "7bbe2a20-0079-4a7a-bb13-23d470c9ad00",
   "metadata": {},
   "outputs": [
    {
     "data": {
      "text/plain": [
       "12"
      ]
     },
     "execution_count": 21,
     "metadata": {},
     "output_type": "execute_result"
    }
   ],
   "source": [
    "len(res2)"
   ]
  },
  {
   "cell_type": "code",
   "execution_count": 22,
   "id": "b444bb83-c16e-4516-bcba-a0d2a1e33e2c",
   "metadata": {},
   "outputs": [],
   "source": [
    "# todo junto hasta que lo encuentre:\n",
    "\n",
    "def map_pi(n,l):\n",
    "    pi = pi_chudnovsky_bs(n * l)\n",
    "\n",
    "    decimal.getcontext().prec = n * l\n",
    "    # imprimimos los decimales de pi, sin la parte entera\n",
    "    pi  = decimal.Decimal(pi) + 0\n",
    "\n",
    "    m = map(''.join, itertools.zip_longest(*[iter(str(pi)[2:])]*n, fillvalue=''))\n",
    "    return list(m)[:l]"
   ]
  },
  {
   "cell_type": "code",
   "execution_count": 23,
   "id": "051af848-d459-4dcd-b91b-66a9f08ecc43",
   "metadata": {},
   "outputs": [],
   "source": [
    "#loop\n",
    "def busca_solucion(n, text):\n",
    "    fin = False\n",
    "    while not fin:\n",
    "        # print(\"para n= %s\" % n)\n",
    "        solucion = {}\n",
    "        keys = map_pi(n,len(text))\n",
    "        #timer\n",
    "        start = time.time()\n",
    "        #loop principal\n",
    "        fin = True\n",
    "        for i, key in enumerate(keys):\n",
    "            if not key in solucion:\n",
    "                solucion[key] = text[i]\n",
    "            else:\n",
    "                if solucion[key] == text[i]:\n",
    "                    continue\n",
    "                else:\n",
    "                    # print ('n= %s no es una solución válida' % n)\n",
    "                    n = n+1\n",
    "                    fin = False\n",
    "                    end = time.time()\n",
    "                    #print( 'F tiempo: %s' % (end - start))\n",
    "                    break\n",
    "    end = time.time()\n",
    "    print ('n= %s es una solución válida' % n)\n",
    "    print( 'OK tiempo: %s' % (end - start))\n",
    "    return solucion\n",
    "\n",
    "    "
   ]
  },
  {
   "cell_type": "code",
   "execution_count": 24,
   "id": "606b06ac-7361-4de8-957a-bfae68ae89b3",
   "metadata": {},
   "outputs": [
    {
     "name": "stdout",
     "output_type": "stream",
     "text": [
      "n= 8 es una solución válida\n",
      "OK tiempo: 0.0010008811950683594\n",
      "no es una solución óptima\n"
     ]
    }
   ],
   "source": [
    "n=2 # valor inicial de n\n",
    "solucion = busca_solucion(n, quijote_data)\n",
    "\n",
    "if len(solucion) == len(quijote_data):\n",
    "    print (\"no es una solución óptima\")"
   ]
  },
  {
   "cell_type": "code",
   "execution_count": 25,
   "id": "67990833",
   "metadata": {},
   "outputs": [
    {
     "name": "stdout",
     "output_type": "stream",
     "text": [
      "{'6', 'h', ')', \"'\", 'ñ', ',', 'á', 'U', 'í', 'i', 'T', '!', 'q', 'O', 'X', 'v', 'A', 'r', 'ï', 'z', 'p', 'C', 'n', 'W', 'x', 'j', 'H', '4', 'Q', '-', 'o', '7', '3', 'F', 'c', 'Á', '1', '¿', 'Ñ', 'Z', ';', 'ú', 'D', 'u', 'a', 'ü', 'R', 'Ó', 'S', 'P', 'd', 'V', 't', 'm', 'f', 'y', 'N', 'b', 's', '«', 'B', '.', 'G', '\"', 'M', 'g', 'É', '0', 'E', 'ó', '?', '5', 'e', '2', ' ', 'Ú', '¡', 'à', ']', ':', '(', 'l', 'Í', 'L', 'é', 'I', 'ù', 'J', '»', 'Y', '\\n'}\n",
      "91\n",
      "2097953\n"
     ]
    }
   ],
   "source": [
    "# ahora vamos a comprobar como crece el valor de n en función del tamaño del texto\n",
    "# para ello, vamos a generar una lista de textos de tamaño creciente, y vamos a medir el tiempo que tarda en encontrar una solución válida.\n",
    "\n",
    "# generamos una lista de textos de tamaño creciente\n",
    "# el tamaño de cada texto es el doble del anterior\n",
    "# el primer texto tiene 100 caracteres, el segundo 200, el tercero 400, etc.\n",
    "# el último texto tiene 2**20 caracteres, es decir, 1.048.576 caracteres tomados de la obra completa de Miguel de Cervantes.\n",
    "\n",
    "# cargamos la obra completa de Miguel de Cervantes\n",
    "quijote_file = recursos / 'pg2000.txt'\n",
    "\n",
    "with open(quijote_file, 'r', encoding='utf-8-sig') as file:\n",
    "    # omitimos el copyright y los metadatos, para quedarnos solo con el texto íntegro de la obra.\n",
    "    # leemos despues del caracter 27 hasta la línea -372.\n",
    "    quijote_data = file.readlines()[36:-372]\n",
    "\n",
    "\n",
    "# unimos todas las líneas en una sola cadena de texto.\n",
    "quijote_data = ''.join(quijote_data)\n",
    "\n",
    "# contamos los caracteres unicos del texto\n",
    "caracteres = set(quijote_data)\n",
    "# imprimimos los caracteres unicos\n",
    "print(caracteres)\n",
    "# imprimimos el número de caracteres unicos\n",
    "print(len(caracteres))\n",
    "\n",
    "# longitud en caracteres del texto\n",
    "l = len(quijote_data)\n",
    "print(l)\n",
    "\n",
    "# generamos una lista de textos de tamaño creciente\n",
    "lista = []\n",
    "for i in range(1,15):\n",
    "    lista.append(quijote_data[:2**i])\n",
    "\n"
   ]
  },
  {
   "cell_type": "code",
   "execution_count": 26,
   "id": "0d9b2eef",
   "metadata": {},
   "outputs": [
    {
     "name": "stdout",
     "output_type": "stream",
     "text": [
      "l = 2, u = 2\n",
      "n= 2 es una solución válida\n",
      "OK tiempo: 0.0\n",
      "l = 4, u = 4\n",
      "n= 2 es una solución válida\n",
      "OK tiempo: 0.0\n",
      "l = 8, u = 7\n",
      "n= 2 es una solución válida\n",
      "OK tiempo: 0.0\n",
      "l = 16, u = 11\n",
      "n= 3 es una solución válida\n",
      "OK tiempo: 0.0\n",
      "l = 32, u = 16\n",
      "n= 4 es una solución válida\n",
      "OK tiempo: 0.0\n",
      "l = 64, u = 26\n",
      "n= 4 es una solución válida\n",
      "OK tiempo: 0.0\n",
      "l = 128, u = 34\n",
      "n= 4 es una solución válida\n",
      "OK tiempo: 0.0\n",
      "l = 256, u = 39\n",
      "n= 5 es una solución válida\n",
      "OK tiempo: 0.0\n",
      "l = 512, u = 41\n",
      "n= 6 es una solución válida\n",
      "OK tiempo: 0.0\n",
      "l = 1024, u = 49\n",
      "n= 6 es una solución válida\n",
      "OK tiempo: 0.0\n",
      "l = 2048, u = 58\n",
      "n= 7 es una solución válida\n",
      "OK tiempo: 0.0\n",
      "l = 4096, u = 58\n",
      "n= 7 es una solución válida\n",
      "OK tiempo: 0.0\n",
      "l = 8192, u = 65\n",
      "n= 8 es una solución válida\n",
      "OK tiempo: 0.0010006427764892578\n",
      "l = 16384, u = 73\n",
      "n= 8 es una solución válida\n",
      "OK tiempo: 0.0019724369049072266\n"
     ]
    }
   ],
   "source": [
    "# por cada texto de la lista, vamos a medir el tiempo que tarda en encontrar una solución válida.\n",
    "\n",
    "for i, text in enumerate(lista):\n",
    "    print (\"l = %s, u = %s\" % (len(text), len(set(text))))\n",
    "    n=2 # valor inicial de n\n",
    "    solucion = busca_solucion(n, text)\n",
    "    # add solucion to list\n",
    "    lista[i] = solucion"
   ]
  },
  {
   "cell_type": "code",
   "execution_count": 27,
   "id": "43dff59b",
   "metadata": {},
   "outputs": [
    {
     "name": "stdout",
     "output_type": "stream",
     "text": [
      "        l   u  n\n",
      "0       1   1  2\n",
      "1       2   2  2\n",
      "2       4   4  2\n",
      "3       8   7  2\n",
      "4      16  11  3\n",
      "5      32  16  4\n",
      "6      64  26  4\n",
      "7     128  34  4\n",
      "8     256  39  5\n",
      "9     512  41  6\n",
      "10   1024  49  6\n",
      "11   2048  58  7\n",
      "12   4096  58  7\n",
      "13   8192  65  8\n",
      "14  16384  73  8\n"
     ]
    }
   ],
   "source": [
    "# Los resultados de las observaciones se muestran en la siguiente tabla.\n",
    "data = {\n",
    "'l': [1, 2, 4, 8, 16, 32, 64, 128, 256, 512, 1024, 2048, 4096, 8192, 16384],\n",
    "'u': [1, 2, 4, 7, 11, 16, 26, 34, 39, 41, 49, 58, 58, 65, 73],\n",
    "'n': [2, 2, 2, 2, 3, 4, 4, 4, 5, 6, 6, 7, 7, 8, 8]\n",
    "}\n",
    "\n",
    "df = pd.DataFrame(data)\n",
    "print(df)"
   ]
  },
  {
   "cell_type": "code",
   "execution_count": 28,
   "id": "910cde2e",
   "metadata": {},
   "outputs": [
    {
     "data": {
      "image/png": "[encoded data removed]",
      "text/plain": [
       "<Figure size 640x480 with 1 Axes>"
      ]
     },
     "metadata": {},
     "output_type": "display_data"
    }
   ],
   "source": [
    "# ahora vamos a dibujar un gráfico de la evolución del tamaño del charset en función del tamaño del texto.\n",
    "# para ello veremos que la linea dibuja una curva de crecimiento logarítmico.\n",
    "# ovbiamente, al tratarse de números enteros, la curva no es exactamente logarítmica, pero se acerca bastante.\n",
    "\n",
    "\n",
    "import matplotlib.pyplot as plt\n",
    "\n",
    "plt.plot(df['l'], df['u'])\n",
    "plt.xlabel('l')\n",
    "plt.ylabel('u')\n",
    "plt.show()\n"
   ]
  },
  {
   "cell_type": "code",
   "execution_count": 29,
   "id": "8e1eb7d6",
   "metadata": {},
   "outputs": [
    {
     "data": {
      "image/png": "[encoded data removed]",
      "text/plain": [
       "<Figure size 640x480 with 1 Axes>"
      ]
     },
     "metadata": {},
     "output_type": "display_data"
    }
   ],
   "source": [
    "# tras varias pruebas, se ha podido constatar que en el tramo de valores que nos interesan, la curva de crecimiento es aproximadamente logarítmica\n",
    "# concretamente a una funcion logaritmica de base pi-2.\n",
    "# el siguiente gráfico compara para los mismos valores de l, la curva de crecimiento de u con la esperada por la función logarítmica de base pi-2.\n",
    "\n",
    "import numpy as np\n",
    "\n",
    "x = np.array(df['l'])\n",
    "y = np.array(df['u'])\n",
    "z = np.log(x) / np.log(np.pi-2)\n",
    "\n",
    "plt.plot(x, y, 'o', x, z)\n",
    "plt.xlabel('l')\n",
    "plt.ylabel('u')\n",
    "plt.show()\n",
    "\n",
    "# no deja de ser ironico que la función que mejor se ajusta a los extractos del Quijote sea precisamente la función logarítmica de base pi-2.\n"
   ]
  },
  {
   "cell_type": "code",
   "execution_count": 34,
   "id": "82a06432",
   "metadata": {},
   "outputs": [
    {
     "data": {
      "image/png": "[encoded data removed]",
      "text/plain": [
       "<Figure size 640x480 with 1 Axes>"
      ]
     },
     "metadata": {},
     "output_type": "display_data"
    }
   ],
   "source": [
    "# una correlación similar se puede observar en el siguiente gráfico, que compara la evolución del valor de n con la esperada por la función logarítmica de base pi.\n",
    "\n",
    "x = np.array(df['l'])\n",
    "y = np.array(df['n'])\n",
    "z = np.log(x) / np.log(3.25)\n",
    "\n",
    "plt.plot(x, y, 'o', x, z)\n",
    "plt.xlabel('l')\n",
    "plt.ylabel('n')\n",
    "plt.show()\n",
    "\n"
   ]
  },
  {
   "cell_type": "code",
   "execution_count": 61,
   "id": "263c8605",
   "metadata": {},
   "outputs": [
    {
     "name": "stdout",
     "output_type": "stream",
     "text": [
      "El Quijote contiene 2097953 caracteres, 91 de ellos son únicos.\n",
      "El valor de n esperado para el Quijote es 12.716076382157626, el valor de u esperado es 109.92292919403008.\n"
     ]
    }
   ],
   "source": [
    "# por tanto podemos concluir que el valor de l es el más importante a la hora de determinar el valor de n, puesto que u y n parecen dependientes de l de forma logarítmica.\n",
    "\n",
    "# sabiendo que el quijote tiene 2.097.953 caracteres, podemos calcular el valor de n que se obtendría para este texto.\n",
    "# adicinamente, podemos evaluar la validez de nuestra hipótesis, comprobando que el valor de u también se encuentra dentro del rango de valores esperados.\n",
    "\n",
    "\n",
    "\n",
    "l = 2097953\n",
    "u = 91\n",
    "\n",
    "print (\"El Quijote contiene %s caracteres, %s de ellos son únicos.\" % (l, u))\n",
    "n_e = np.log(l) / np.log(np.pi)\n",
    "u_e = np.log(l) / np.log(np.pi-2)\n",
    "# u_e = np.log(l) / np.log(np.pi-1.9682)\n",
    "print (\"El valor de n esperado para el Quijote es %s, el valor de u esperado es %s.\" % (n_e, u_e))\n",
    "\n"
   ]
  },
  {
   "cell_type": "code",
   "execution_count": 62,
   "id": "4e9ee173",
   "metadata": {},
   "outputs": [
    {
     "name": "stdout",
     "output_type": "stream",
     "text": [
      "25175436\n"
     ]
    }
   ],
   "source": [
    "print(12 * l)"
   ]
  },
  {
   "attachments": {},
   "cell_type": "markdown",
   "id": "7a3c3bfc",
   "metadata": {},
   "source": [
    "La complejidad de este algoritmo es de $ \\mathcal{O}( l  n^2 \\log(n)^3 + l n) $, donde $l$ es la longitud de caracteres, y $n$ es el tamaño de los trozos de pi."
   ]
  }
 ],
 "metadata": {
  "kernelspec": {
   "display_name": "TFG",
   "language": "python",
   "name": "python3"
  },
  "language_info": {
   "codemirror_mode": {
    "name": "ipython",
    "version": 3
   },
   "file_extension": ".py",
   "mimetype": "text/x-python",
   "name": "python",
   "nbconvert_exporter": "python",
   "pygments_lexer": "ipython3",
   "version": "3.10.9"
  },
  "vscode": {
   "interpreter": {
    "hash": "9c35489f7caf60440c1880c3cea6eb5ad83ac8aa1f2d71c95c2cebb9fb57248d"
   }
  }
 },
 "nbformat": 4,
 "nbformat_minor": 5
}
