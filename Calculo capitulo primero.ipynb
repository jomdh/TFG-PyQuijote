{
 "cells": [
  {
   "cell_type": "code",
   "execution_count": 8,
   "id": "b23adefe",
   "metadata": {},
   "outputs": [],
   "source": [
    "# %pip install wget\n",
    "# !python -m wget  https://www.gutenberg.org/cache/epub/2000/pg2000.txt"
   ]
  },
  {
   "cell_type": "code",
   "execution_count": 9,
   "id": "c1fa72f9-21b3-41ff-944c-970ae5d4b5c8",
   "metadata": {},
   "outputs": [],
   "source": [
    "\n",
    "# importamos las librerías necesarias\n",
    "\n",
    "import time\n",
    "import pandas as pd\n",
    "from pathlib import Path\n",
    "import itertools\n",
    "from textwrap import wrap\n",
    "\n",
    "import decimal\n",
    "# importamos el algoritmo de Chudnovsky de implementations/chudnovsky_altorendimiento.py\n",
    "from implementations.chudnovsky_altorendimiento import pi_chudnovsky_bs\n",
    "\n",
    "\n",
    "\n"
   ]
  },
  {
   "cell_type": "code",
   "execution_count": 10,
   "id": "206e7552-a420-4621-8e4c-34fab867aeaa",
   "metadata": {},
   "outputs": [
    {
     "data": {
      "text/plain": [
       "True"
      ]
     },
     "execution_count": 10,
     "metadata": {},
     "output_type": "execute_result"
    }
   ],
   "source": [
    "# importamos el archivo de texto del Quijote de la web de Gutenberg\n",
    "# !python -m wget  https://www.gutenberg.org/cache/epub/2000/pg2000.txt\n",
    "\n",
    "# definimos la ruta del archivo\n",
    "recursos = Path.cwd() / \"recursos\"\n",
    "\n",
    "quijote_file = recursos / 'primer_capitulo.txt'\n",
    "quijote_file.exists()\n",
    "\n"
   ]
  },
  {
   "cell_type": "code",
   "execution_count": 11,
   "id": "8507ed2e",
   "metadata": {},
   "outputs": [
    {
     "name": "stdout",
     "output_type": "stream",
     "text": [
      "{',', '4', 't', '-', '9', '\"', 'i', '@', 'a', 'E', 'k', 'P', 'T', 'l', ' ', 'K', '#', '5', 'ü', 'm', '%', 'o', '[', 'b', 'J', 'u', 'N', 'W', 'q', '2', 'z', '!', 'L', 's', 'Y', '(', 'A', 'á', 'f', 'c', '¿', '8', 'S', 'w', \"'\", 'F', 'V', 'Q', 'h', 'C', 'v', ';', '\\n', '6', '/', 'G', 'g', 'í', 'j', 'p', '*', '1', 'y', 'U', ':', 'ó', 'x', '3', 'M', '0', 'é', 'R', 'I', 'e', '.', ')', 'r', 'D', ']', '7', '$', 'ú', 'd', 'n', 'H', 'B', 'ñ', 'O', '?', '¡', 'X'}\n",
      "91\n",
      "29922\n"
     ]
    }
   ],
   "source": [
    "# sea k el número de dígitos de precisión que se quieren calcular.\n",
    "# este valor debe ser como máximo, el producto de n y el número total de caracteres del texto.\n",
    "\n",
    "# por ejemplo, si n = 2, y el texto tiene 1000 caracteres, k = 2000.\n",
    "# calcularemos el numero total de caracteres del texto\n",
    "\n",
    "# abrimos el quijote como utf-8-sig, para evitar errores de codificación.    \n",
    "with open(quijote_file, 'r', encoding='utf-8-sig') as file:\n",
    "    # omitimos el copyright y los metadatos, para quedarnos solo con el texto íntegro de la obra.\n",
    "    # leemos despues del caracter 27 hasta la línea -372.\n",
    "    quijote_data = file.readlines()\n",
    "\n",
    "# unimos todas las líneas en una sola cadena de texto.\n",
    "quijote_data = ''.join(quijote_data)\n",
    "\n",
    "# contamos los caracteres unicos del texto\n",
    "caracteres = set(quijote_data)\n",
    "# imprimimos los caracteres unicos\n",
    "print(caracteres)\n",
    "# imprimimos el número de caracteres unicos\n",
    "print(len(caracteres))\n",
    "\n",
    "# longitud en caracteres del texto\n",
    "l = len(quijote_data)\n",
    "print(l)"
   ]
  },
  {
   "cell_type": "code",
   "execution_count": 12,
   "id": "571022eb-8243-4a00-b3f4-b331e030cba3",
   "metadata": {},
   "outputs": [
    {
     "name": "stdout",
     "output_type": "stream",
     "text": [
      "el texto contiene 29922 caractereres, su alfabeto tiene 91 caracteres unicos\n",
      "por tanto, el valor de n debe ser como minimo 2\n"
     ]
    }
   ],
   "source": [
    "# longitud en caracteres de cada trozo de pi. como minimo dos, \n",
    "# ya que el alfabeto y todos los caracteres imprimibles pueden rondar los 100\n",
    "\n",
    "# por tanto, n será como minimo, el valor del orden de magnitud superior de n.\n",
    "\n",
    "print (\"el texto contiene %s caractereres, su alfabeto tiene %s caracteres unicos\" % (l, len(caracteres)))\n",
    "print (\"por tanto, el valor de n debe ser como minimo %s\" % len(str(len(caracteres))))\n",
    "n = len(str(len(caracteres)))\n",
    "\n",
    "# de encontrar una solución con esta longitud, estaríamos muy cerca de la solución optima.\n",
    "# si no se encuentra una solución, se incrementa el valor de n en 1 y se vuelve a intentar.\n",
    "# si se encuentra una solución, se imprime el valor de n y el tiempo que ha tardado en encontrarla."
   ]
  },
  {
   "cell_type": "code",
   "execution_count": 13,
   "id": "df8bbdf7",
   "metadata": {},
   "outputs": [
    {
     "name": "stdout",
     "output_type": "stream",
     "text": [
      "decimales de pi necesarios = n * l = 2 * 29922 = 59844\n",
      "redondeado = 60000\n"
     ]
    }
   ],
   "source": [
    "# tenemos ya por tanto, una estimación del numero de decimales de pi que necesitamos \n",
    "# para nuestra primera aproximación.\n",
    "\n",
    "print (\"decimales de pi necesarios = n * l = %s * %s = %s\" % (n, l, n*l))\n",
    "\n",
    "# por conveniencia, redondeamos el valor de n*l al siguiente valor dentro del orden de magnitud.\n",
    "# para ello primero calculamos el log10 de n*l, y luego redondeamos hacia abajo.\n",
    "\n",
    "# calculamos el log10 de n*l\n",
    "log10 = decimal.Decimal(n*l).log10()\n",
    "# redondeamos hacia abajo, quedandonos con el valor entero, para obtener el orden de magnitud.\n",
    "exp = int(log10)\n",
    "\n",
    "# calculamos el valor de k\n",
    "k = int(n*l / 10**exp) + 1\n",
    "k_r =(k * 10**exp)\n",
    "print (\"redondeado = %s\" % k_r)\n",
    "\n",
    "\n"
   ]
  },
  {
   "cell_type": "code",
   "execution_count": 14,
   "id": "94c35222",
   "metadata": {},
   "outputs": [],
   "source": [
    "# generamos esa misma cantidad de decimales de pi\n",
    "# para ello, usamos el algoritmo de Chudnovsky, que hemos importado al principio del notebook.\n",
    "\n",
    "pi = pi_chudnovsky_bs(k_r)\n",
    "\n",
    "decimal.getcontext().prec = k_r\n",
    "# imprimimos los decimales de pi, sin la parte entera\n",
    "pi  = decimal.Decimal(pi) + 0\n",
    "\n",
    "\n",
    "\n",
    "\n"
   ]
  },
  {
   "cell_type": "code",
   "execution_count": 15,
   "id": "dbbabf16-f1b7-4cc9-a2eb-729c8fc65e1e",
   "metadata": {},
   "outputs": [
    {
     "name": "stdout",
     "output_type": "stream",
     "text": [
      "0.0\n"
     ]
    }
   ],
   "source": [
    "# mapeamos los decimales de pi en trozos de n-elementos\n",
    "# itertools.zip_longest se encarga de los impares sueltos\n",
    "\n",
    "start = time.time()\n",
    "# \n",
    "b = map(''.join, itertools.zip_longest(*[iter(str(pi)[2:])]*n, fillvalue=''))\n",
    "end = time.time()\n",
    "print(end - start)\n",
    "\n",
    "# imprimimos los trozos de pi\n",
    "# print (list(b))"
   ]
  },
  {
   "cell_type": "code",
   "execution_count": 16,
   "id": "9ffcf104-6437-416c-b1c0-12cc2e14a1b3",
   "metadata": {},
   "outputs": [],
   "source": [
    "# tantos trozos de pi como caracteres totales en texto\n",
    "nlist = list(b)[:l]\n",
    "# print(nlist)\n"
   ]
  },
  {
   "cell_type": "code",
   "execution_count": 17,
   "id": "64ba612b-ea6b-49a3-8cfe-bc48c3d60e7c",
   "metadata": {},
   "outputs": [
    {
     "name": "stdout",
     "output_type": "stream",
     "text": [
      "not valid\n"
     ]
    }
   ],
   "source": [
    "# búsqueda: intenta crear un diccionario key:value en el que todo key sea único.\n",
    "# si no lo consigue, sale del bucle.\n",
    "# esta es una versión académica, pero se puede hacer más elegante.\n",
    "\n",
    "res2 = {}\n",
    "i=0\n",
    "for key in nlist:\n",
    "    if not key in res2:\n",
    "        res2[key] = quijote_data[i]\n",
    "    else:\n",
    "        if res2[key] == quijote_data[i]:\n",
    "            continue\n",
    "        else:\n",
    "            print ('not valid')\n",
    "            break\n",
    "    i = i+1"
   ]
  },
  {
   "cell_type": "code",
   "execution_count": 18,
   "id": "ba0bb205-f362-4e39-a750-99ae192fc490",
   "metadata": {},
   "outputs": [
    {
     "data": {
      "text/plain": [
       "{'14': 'T',\n",
       " '15': 'h',\n",
       " '92': 'e',\n",
       " '65': ' ',\n",
       " '35': 'P',\n",
       " '89': 'r',\n",
       " '79': 'o',\n",
       " '32': 'j',\n",
       " '38': 'e',\n",
       " '46': 'c',\n",
       " '26': 't',\n",
       " '43': ' '}"
      ]
     },
     "execution_count": 18,
     "metadata": {},
     "output_type": "execute_result"
    }
   ],
   "source": [
    "res2\n"
   ]
  },
  {
   "cell_type": "code",
   "execution_count": 19,
   "id": "7bbe2a20-0079-4a7a-bb13-23d470c9ad00",
   "metadata": {},
   "outputs": [
    {
     "data": {
      "text/plain": [
       "12"
      ]
     },
     "execution_count": 19,
     "metadata": {},
     "output_type": "execute_result"
    }
   ],
   "source": [
    "len(res2)"
   ]
  },
  {
   "cell_type": "code",
   "execution_count": 20,
   "id": "b444bb83-c16e-4516-bcba-a0d2a1e33e2c",
   "metadata": {},
   "outputs": [],
   "source": [
    "# todo junto hasta que lo encuentre:\n",
    "\n",
    "def map_pi(n,l):\n",
    "    pi = pi_chudnovsky_bs(n * l)\n",
    "\n",
    "    decimal.getcontext().prec = n * l\n",
    "    # imprimimos los decimales de pi, sin la parte entera\n",
    "    pi  = decimal.Decimal(pi) + 0\n",
    "\n",
    "    m = map(''.join, itertools.zip_longest(*[iter(str(pi)[2:])]*n, fillvalue=''))\n",
    "    return list(m)[:l]"
   ]
  },
  {
   "cell_type": "code",
   "execution_count": 21,
   "id": "051af848-d459-4dcd-b91b-66a9f08ecc43",
   "metadata": {},
   "outputs": [],
   "source": [
    "#loop\n",
    "def busca_solucion(n, text):\n",
    "    fin = False\n",
    "    while not fin:\n",
    "        print (\"El texto contiene %s caracteres\" % len(text))\n",
    "        print(\"para n= %s\" % n)\n",
    "        solucion = {}\n",
    "        keys = map_pi(n,len(text))\n",
    "        #timer\n",
    "        start = time.time()\n",
    "        #loop principal\n",
    "        fin = True\n",
    "        for i, key in enumerate(keys):\n",
    "            if not key in solucion:\n",
    "                solucion[key] = text[i]\n",
    "            else:\n",
    "                if solucion[key] == text[i]:\n",
    "                    continue\n",
    "                else:\n",
    "                    print ('n= %s no es una solución válida' % n)\n",
    "                    n = n+1\n",
    "                    fin = False\n",
    "                    end = time.time()\n",
    "                    print( 'F tiempo: %s' % (end - start))\n",
    "                    break\n",
    "    end = time.time()\n",
    "    print ('n= %s SI una solución válida' % n)\n",
    "    print( 'OK tiempo: %s' % (end - start))\n",
    "    return solucion\n",
    "\n",
    "    "
   ]
  },
  {
   "cell_type": "code",
   "execution_count": 22,
   "id": "606b06ac-7361-4de8-957a-bfae68ae89b3",
   "metadata": {},
   "outputs": [
    {
     "name": "stdout",
     "output_type": "stream",
     "text": [
      "El texto contiene 29922 caracteres\n",
      "para n= 2\n",
      "n= 2 no es una solución válida\n",
      "F tiempo: 0.0\n",
      "El texto contiene 29922 caracteres\n",
      "para n= 3\n",
      "n= 3 no es una solución válida\n",
      "F tiempo: 0.0\n",
      "El texto contiene 29922 caracteres\n",
      "para n= 4\n",
      "n= 4 no es una solución válida\n",
      "F tiempo: 0.0\n",
      "El texto contiene 29922 caracteres\n",
      "para n= 5\n",
      "n= 5 no es una solución válida\n",
      "F tiempo: 0.0010311603546142578\n",
      "El texto contiene 29922 caracteres\n",
      "para n= 6\n",
      "n= 6 no es una solución válida\n",
      "F tiempo: 0.0\n",
      "El texto contiene 29922 caracteres\n",
      "para n= 7\n",
      "n= 7 no es una solución válida\n",
      "F tiempo: 0.0010099411010742188\n",
      "El texto contiene 29922 caracteres\n",
      "para n= 8\n",
      "n= 8 no es una solución válida\n",
      "F tiempo: 0.0019953250885009766\n",
      "El texto contiene 29922 caracteres\n",
      "para n= 9\n",
      "n= 9 SI una solución válida\n",
      "OK tiempo: 0.0060117244720458984\n",
      "no es una solución óptima\n"
     ]
    }
   ],
   "source": [
    "n=2 # valor inicial de n\n",
    "solucion = busca_solucion(n, quijote_data)\n",
    "\n",
    "if len(solucion) == len(quijote_data):\n",
    "    print (\"no es una solución óptima\")"
   ]
  },
  {
   "cell_type": "code",
   "execution_count": 23,
   "id": "2d7373c5",
   "metadata": {},
   "outputs": [
    {
     "data": {
      "text/html": [
       "<div>\n",
       "<style scoped>\n",
       "    .dataframe tbody tr th:only-of-type {\n",
       "        vertical-align: middle;\n",
       "    }\n",
       "\n",
       "    .dataframe tbody tr th {\n",
       "        vertical-align: top;\n",
       "    }\n",
       "\n",
       "    .dataframe thead th {\n",
       "        text-align: right;\n",
       "    }\n",
       "</style>\n",
       "<table border=\"1\" class=\"dataframe\">\n",
       "  <thead>\n",
       "    <tr style=\"text-align: right;\">\n",
       "      <th></th>\n",
       "      <th>value</th>\n",
       "      <th>key</th>\n",
       "      <th>count</th>\n",
       "    </tr>\n",
       "  </thead>\n",
       "  <tbody>\n",
       "    <tr>\n",
       "      <th>1</th>\n",
       "      <td></td>\n",
       "      <td>[000380302, 000511091, 000829331, 001541003, 0...</td>\n",
       "      <td>4675</td>\n",
       "    </tr>\n",
       "    <tr>\n",
       "      <th>60</th>\n",
       "      <td>e</td>\n",
       "      <td>[000064445, 000165069, 000705526, 001169301, 0...</td>\n",
       "      <td>2795</td>\n",
       "    </tr>\n",
       "    <tr>\n",
       "      <th>70</th>\n",
       "      <td>o</td>\n",
       "      <td>[000263301, 001291223, 001659240, 002236255, 0...</td>\n",
       "      <td>2022</td>\n",
       "    </tr>\n",
       "    <tr>\n",
       "      <th>56</th>\n",
       "      <td>a</td>\n",
       "      <td>[000361466, 000484687, 000518029, 000573876, 0...</td>\n",
       "      <td>1962</td>\n",
       "    </tr>\n",
       "    <tr>\n",
       "      <th>75</th>\n",
       "      <td>t</td>\n",
       "      <td>[000480075, 000599527, 001620769, 003032398, 0...</td>\n",
       "      <td>1695</td>\n",
       "    </tr>\n",
       "    <tr>\n",
       "      <th>...</th>\n",
       "      <td>...</td>\n",
       "      <td>...</td>\n",
       "      <td>...</td>\n",
       "    </tr>\n",
       "    <tr>\n",
       "      <th>83</th>\n",
       "      <td>¿</td>\n",
       "      <td>[307326634]</td>\n",
       "      <td>1</td>\n",
       "    </tr>\n",
       "    <tr>\n",
       "      <th>82</th>\n",
       "      <td>¡</td>\n",
       "      <td>[707370166]</td>\n",
       "      <td>1</td>\n",
       "    </tr>\n",
       "    <tr>\n",
       "      <th>54</th>\n",
       "      <td>[</td>\n",
       "      <td>[193259746]</td>\n",
       "      <td>1</td>\n",
       "    </tr>\n",
       "    <tr>\n",
       "      <th>27</th>\n",
       "      <td>?</td>\n",
       "      <td>[829149904]</td>\n",
       "      <td>1</td>\n",
       "    </tr>\n",
       "    <tr>\n",
       "      <th>90</th>\n",
       "      <td>ü</td>\n",
       "      <td>[586041919]</td>\n",
       "      <td>1</td>\n",
       "    </tr>\n",
       "  </tbody>\n",
       "</table>\n",
       "<p>91 rows × 3 columns</p>\n",
       "</div>"
      ],
      "text/plain": [
       "   value                                                key  count\n",
       "1         [000380302, 000511091, 000829331, 001541003, 0...   4675\n",
       "60     e  [000064445, 000165069, 000705526, 001169301, 0...   2795\n",
       "70     o  [000263301, 001291223, 001659240, 002236255, 0...   2022\n",
       "56     a  [000361466, 000484687, 000518029, 000573876, 0...   1962\n",
       "75     t  [000480075, 000599527, 001620769, 003032398, 0...   1695\n",
       "..   ...                                                ...    ...\n",
       "83     ¿                                        [307326634]      1\n",
       "82     ¡                                        [707370166]      1\n",
       "54     [                                        [193259746]      1\n",
       "27     ?                                        [829149904]      1\n",
       "90     ü                                        [586041919]      1\n",
       "\n",
       "[91 rows x 3 columns]"
      ]
     },
     "execution_count": 23,
     "metadata": {},
     "output_type": "execute_result"
    }
   ],
   "source": [
    "\n",
    "# create a matrix with the solution, with the values of the dictionary\n",
    "# and the keys of the dictionary, sorted by value\n",
    "\n",
    "matrix = []\n",
    "for key, value in solucion.items():\n",
    "    matrix.append([key, value])\n",
    "\n",
    "matrix.sort(key=lambda x: x[0])\n",
    "\n",
    "# import matrix into a dataframe\n",
    "import pandas as pd\n",
    "\n",
    "df = pd.DataFrame(matrix, columns=['key', 'value'])\n",
    "# group by value, and concatenate the keys into an array\n",
    "df = df.groupby('value').agg(lambda x: list(x)).reset_index()\n",
    "# count the number of keys in each array\n",
    "df['count'] = df['key'].apply(lambda x: len(x))\n",
    "# sort by count\n",
    "df = df.sort_values(by='count', ascending=False)\n",
    "df\n"
   ]
  },
  {
   "cell_type": "code",
   "execution_count": 24,
   "id": "58ac58e4",
   "metadata": {},
   "outputs": [
    {
     "data": {
      "image/png": "[encoded data removed]",
      "text/plain": [
       "<Figure size 1170x827 with 1 Axes>"
      ]
     },
     "metadata": {},
     "output_type": "display_data"
    }
   ],
   "source": [
    "# plot the distribution of the number of keys in each array\n",
    "import matplotlib.pyplot as plt\n",
    "import seaborn as sns\n",
    "sns.set(style=\"whitegrid\")\n",
    "sns.set(rc={'figure.figsize':(11.7,8.27)})\n",
    "ax = sns.barplot(x=\"count\", y=\"value\", data=df)\n",
    "ax.set(xlabel='Number of keys', ylabel='Value')\n",
    "plt.show()\n"
   ]
  }
 ],
 "metadata": {
  "kernelspec": {
   "display_name": "Python 3 (ipykernel)",
   "language": "python",
   "name": "python3"
  },
  "language_info": {
   "codemirror_mode": {
    "name": "ipython",
    "version": 3
   },
   "file_extension": ".py",
   "mimetype": "text/x-python",
   "name": "python",
   "nbconvert_exporter": "python",
   "pygments_lexer": "ipython3",
   "version": "3.10.9"
  },
  "vscode": {
   "interpreter": {
    "hash": "9c35489f7caf60440c1880c3cea6eb5ad83ac8aa1f2d71c95c2cebb9fb57248d"
   }
  }
 },
 "nbformat": 4,
 "nbformat_minor": 5
}
