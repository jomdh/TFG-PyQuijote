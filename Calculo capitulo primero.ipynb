{
 "cells": [
  {
   "cell_type": "code",
   "execution_count": 1,
   "id": "b23adefe",
   "metadata": {},
   "outputs": [],
   "source": [
    "# %pip install wget\n",
    "# !python -m wget  https://www.gutenberg.org/cache/epub/2000/pg2000.txt"
   ]
  },
  {
   "cell_type": "code",
   "execution_count": 2,
   "id": "c1fa72f9-21b3-41ff-944c-970ae5d4b5c8",
   "metadata": {},
   "outputs": [],
   "source": [
    "\n",
    "# importamos las librerías necesarias\n",
    "\n",
    "import time\n",
    "import pandas as pd\n",
    "from pathlib import Path\n",
    "import itertools\n",
    "from textwrap import wrap\n",
    "\n",
    "import decimal\n",
    "# importamos el algoritmo de Chudnovsky de implementations/chudnovsky_altorendimiento.py\n",
    "from implementations.chudnovsky_altorendimiento import pi_chudnovsky_bs\n",
    "\n",
    "\n",
    "\n"
   ]
  },
  {
   "cell_type": "code",
   "execution_count": 3,
   "id": "206e7552-a420-4621-8e4c-34fab867aeaa",
   "metadata": {},
   "outputs": [
    {
     "data": {
      "text/plain": [
       "True"
      ]
     },
     "execution_count": 3,
     "metadata": {},
     "output_type": "execute_result"
    }
   ],
   "source": [
    "# importamos el archivo de texto del Quijote de la web de Gutenberg\n",
    "# !python -m wget  https://www.gutenberg.org/cache/epub/2000/pg2000.txt\n",
    "\n",
    "# definimos la ruta del archivo\n",
    "recursos = Path.cwd() / \"recursos\"\n",
    "\n",
    "quijote_file = recursos / 'primer_capitulo.txt'\n",
    "quijote_file.exists()\n",
    "\n"
   ]
  },
  {
   "cell_type": "code",
   "execution_count": 4,
   "id": "8507ed2e",
   "metadata": {},
   "outputs": [
    {
     "name": "stdout",
     "output_type": "stream",
     "text": [
      "{'D', ';', 'E', 'Q', 'o', 'y', 't', '.', 'M', 'S', 'A', 'ü', 's', 'l', 'v', '?', 'u', 'd', '¿', \"'\", 'ó', 'h', 'p', ' ', ':', 'C', 'R', 'e', 'x', 'Y', 'L', 'i', 'B', 'c', ',', 'r', 'm', 'O', 'F', 'z', 'ñ', 'N', 'G', 'P', '!', 'í', 'j', 'U', 'I', 'T', 'H', 'g', 'á', '-', 'b', 'a', 'f', '\\n', 'é', '¡', 'q', 'ú', 'n'}\n",
      "63\n",
      "10378\n"
     ]
    }
   ],
   "source": [
    "# sea k el número de dígitos de precisión que se quieren calcular.\n",
    "# este valor debe ser como máximo, el producto de n y el número total de caracteres del texto.\n",
    "\n",
    "# por ejemplo, si n = 2, y el texto tiene 1000 caracteres, k = 2000.\n",
    "# calcularemos el numero total de caracteres del texto\n",
    "\n",
    "# abrimos el quijote como utf-8-sig, para evitar errores de codificación.    \n",
    "with open(quijote_file, 'r', encoding='utf-8-sig') as file:\n",
    "    # omitimos el copyright y los metadatos, para quedarnos solo con el texto íntegro de la obra.\n",
    "    # leemos despues del caracter 27 hasta la línea -372.\n",
    "    quijote_data = file.readlines()[36:-372]\n",
    "\n",
    "# unimos todas las líneas en una sola cadena de texto.\n",
    "quijote_data = ''.join(quijote_data)\n",
    "\n",
    "# contamos los caracteres unicos del texto\n",
    "caracteres = set(quijote_data)\n",
    "# imprimimos los caracteres unicos\n",
    "print(caracteres)\n",
    "# imprimimos el número de caracteres unicos\n",
    "print(len(caracteres))\n",
    "\n",
    "# longitud en caracteres del texto\n",
    "l = len(quijote_data)\n",
    "print(l)"
   ]
  },
  {
   "cell_type": "code",
   "execution_count": 5,
   "id": "571022eb-8243-4a00-b3f4-b331e030cba3",
   "metadata": {},
   "outputs": [
    {
     "name": "stdout",
     "output_type": "stream",
     "text": [
      "el texto contiene 10378 caractereres, su alfabeto tiene 63 caracteres unicos\n",
      "por tanto, el valor de n debe ser como minimo 2\n"
     ]
    }
   ],
   "source": [
    "# longitud en caracteres de cada trozo de pi. como minimo dos, \n",
    "# ya que el alfabeto y todos los caracteres imprimibles pueden rondar los 100\n",
    "\n",
    "# por tanto, n será como minimo, el valor del orden de magnitud superior de n.\n",
    "\n",
    "print (\"el texto contiene %s caractereres, su alfabeto tiene %s caracteres unicos\" % (l, len(caracteres)))\n",
    "print (\"por tanto, el valor de n debe ser como minimo %s\" % len(str(len(caracteres))))\n",
    "n = len(str(len(caracteres)))\n",
    "\n",
    "# de encontrar una solución con esta longitud, estaríamos muy cerca de la solución optima.\n",
    "# si no se encuentra una solución, se incrementa el valor de n en 1 y se vuelve a intentar.\n",
    "# si se encuentra una solución, se imprime el valor de n y el tiempo que ha tardado en encontrarla."
   ]
  },
  {
   "cell_type": "code",
   "execution_count": 6,
   "id": "df8bbdf7",
   "metadata": {},
   "outputs": [
    {
     "name": "stdout",
     "output_type": "stream",
     "text": [
      "decimales de pi necesarios = n * l = 2 * 10378 = 20756\n",
      "redondeado = 30000\n"
     ]
    }
   ],
   "source": [
    "# tenemos ya por tanto, una estimación del numero de decimales de pi que necesitamos \n",
    "# para nuestra primera aproximación.\n",
    "\n",
    "print (\"decimales de pi necesarios = n * l = %s * %s = %s\" % (n, l, n*l))\n",
    "\n",
    "# por conveniencia, redondeamos el valor de n*l al siguiente valor dentro del orden de magnitud.\n",
    "# para ello primero calculamos el log10 de n*l, y luego redondeamos hacia abajo.\n",
    "\n",
    "# calculamos el log10 de n*l\n",
    "log10 = decimal.Decimal(n*l).log10()\n",
    "# redondeamos hacia abajo, quedandonos con el valor entero, para obtener el orden de magnitud.\n",
    "exp = int(log10)\n",
    "\n",
    "# calculamos el valor de k\n",
    "k = int(n*l / 10**exp) + 1\n",
    "k_r =(k * 10**exp)\n",
    "print (\"redondeado = %s\" % k_r)\n",
    "\n",
    "\n"
   ]
  },
  {
   "cell_type": "code",
   "execution_count": 7,
   "id": "94c35222",
   "metadata": {},
   "outputs": [],
   "source": [
    "# generamos esa misma cantidad de decimales de pi\n",
    "# para ello, usamos el algoritmo de Chudnovsky, que hemos importado al principio del notebook.\n",
    "\n",
    "pi = pi_chudnovsky_bs(k_r)\n",
    "\n",
    "decimal.getcontext().prec = k_r\n",
    "# imprimimos los decimales de pi, sin la parte entera\n",
    "pi  = decimal.Decimal(pi) + 0\n",
    "\n",
    "\n",
    "\n",
    "\n"
   ]
  },
  {
   "cell_type": "code",
   "execution_count": 8,
   "id": "dbbabf16-f1b7-4cc9-a2eb-729c8fc65e1e",
   "metadata": {},
   "outputs": [
    {
     "name": "stdout",
     "output_type": "stream",
     "text": [
      "0.0\n"
     ]
    }
   ],
   "source": [
    "# mapeamos los decimales de pi en trozos de n-elementos\n",
    "# itertools.zip_longest se encarga de los impares sueltos\n",
    "\n",
    "start = time.time()\n",
    "# \n",
    "b = map(''.join, itertools.zip_longest(*[iter(str(pi)[2:])]*n, fillvalue=''))\n",
    "end = time.time()\n",
    "print(end - start)\n",
    "\n",
    "# imprimimos los trozos de pi\n",
    "# print (list(b))"
   ]
  },
  {
   "cell_type": "code",
   "execution_count": 9,
   "id": "9ffcf104-6437-416c-b1c0-12cc2e14a1b3",
   "metadata": {},
   "outputs": [],
   "source": [
    "# tantos trozos de pi como caracteres totales en texto\n",
    "nlist = list(b)[:l]\n",
    "# print(nlist)\n"
   ]
  },
  {
   "cell_type": "code",
   "execution_count": 10,
   "id": "64ba612b-ea6b-49a3-8cfe-bc48c3d60e7c",
   "metadata": {},
   "outputs": [
    {
     "name": "stdout",
     "output_type": "stream",
     "text": [
      "not valid\n"
     ]
    }
   ],
   "source": [
    "# búsqueda: intenta crear un diccionario key:value en el que todo key sea único.\n",
    "# si no lo consigue, sale del bucle.\n",
    "# esta es una versión académica, pero se puede hacer más elegante.\n",
    "\n",
    "res2 = {}\n",
    "i=0\n",
    "for key in nlist:\n",
    "    if not key in res2:\n",
    "        res2[key] = quijote_data[i]\n",
    "    else:\n",
    "        if res2[key] == quijote_data[i]:\n",
    "            continue\n",
    "        else:\n",
    "            print ('not valid')\n",
    "            break\n",
    "    i = i+1"
   ]
  },
  {
   "cell_type": "code",
   "execution_count": 11,
   "id": "ba0bb205-f362-4e39-a750-99ae192fc490",
   "metadata": {},
   "outputs": [
    {
     "data": {
      "text/plain": [
       "{'14': '\\n',\n",
       " '15': 'E',\n",
       " '92': 'n',\n",
       " '65': ' ',\n",
       " '35': 'u',\n",
       " '89': 'n',\n",
       " '79': ' ',\n",
       " '32': 'l',\n",
       " '38': 'u',\n",
       " '46': 'g',\n",
       " '26': 'a',\n",
       " '43': 'r'}"
      ]
     },
     "execution_count": 11,
     "metadata": {},
     "output_type": "execute_result"
    }
   ],
   "source": [
    "res2\n"
   ]
  },
  {
   "cell_type": "code",
   "execution_count": 12,
   "id": "7bbe2a20-0079-4a7a-bb13-23d470c9ad00",
   "metadata": {},
   "outputs": [
    {
     "data": {
      "text/plain": [
       "12"
      ]
     },
     "execution_count": 12,
     "metadata": {},
     "output_type": "execute_result"
    }
   ],
   "source": [
    "len(res2)"
   ]
  },
  {
   "cell_type": "code",
   "execution_count": 13,
   "id": "b444bb83-c16e-4516-bcba-a0d2a1e33e2c",
   "metadata": {},
   "outputs": [],
   "source": [
    "# todo junto hasta que lo encuentre:\n",
    "\n",
    "def map_pi(n,l):\n",
    "    pi = pi_chudnovsky_bs(n * l)\n",
    "\n",
    "    decimal.getcontext().prec = n * l\n",
    "    # imprimimos los decimales de pi, sin la parte entera\n",
    "    pi  = decimal.Decimal(pi) + 0\n",
    "\n",
    "    m = map(''.join, itertools.zip_longest(*[iter(str(pi)[2:])]*n, fillvalue=''))\n",
    "    return list(m)[:l]"
   ]
  },
  {
   "cell_type": "code",
   "execution_count": 14,
   "id": "051af848-d459-4dcd-b91b-66a9f08ecc43",
   "metadata": {},
   "outputs": [],
   "source": [
    "#loop\n",
    "def busca_solucion(n, text):\n",
    "    fin = False\n",
    "    while not fin:\n",
    "        print (\"El texto contiene %s caracteres\" % len(text))\n",
    "        print(\"para n= %s\" % n)\n",
    "        solucion = {}\n",
    "        keys = map_pi(n,len(text))\n",
    "        #timer\n",
    "        start = time.time()\n",
    "        #loop principal\n",
    "        fin = True\n",
    "        for i, key in enumerate(keys):\n",
    "            if not key in solucion:\n",
    "                solucion[key] = text[i]\n",
    "            else:\n",
    "                if solucion[key] == text[i]:\n",
    "                    continue\n",
    "                else:\n",
    "                    print ('n= %s no es una solución válida' % n)\n",
    "                    n = n+1\n",
    "                    fin = False\n",
    "                    end = time.time()\n",
    "                    print( 'F tiempo: %s' % (end - start))\n",
    "                    break\n",
    "    end = time.time()\n",
    "    print ('n= %s SI una solución válida' % n)\n",
    "    print( 'OK tiempo: %s' % (end - start))\n",
    "    return solucion\n",
    "\n",
    "    "
   ]
  },
  {
   "cell_type": "code",
   "execution_count": 15,
   "id": "606b06ac-7361-4de8-957a-bfae68ae89b3",
   "metadata": {},
   "outputs": [
    {
     "name": "stdout",
     "output_type": "stream",
     "text": [
      "El texto contiene 10378 caracteres\n",
      "para n= 2\n",
      "n= 2 no es una solución válida\n",
      "F tiempo: 0.0\n",
      "El texto contiene 10378 caracteres\n",
      "para n= 3\n",
      "n= 3 no es una solución válida\n",
      "F tiempo: 0.0\n",
      "El texto contiene 10378 caracteres\n",
      "para n= 4\n",
      "n= 4 no es una solución válida\n",
      "F tiempo: 0.0\n",
      "El texto contiene 10378 caracteres\n",
      "para n= 5\n",
      "n= 5 no es una solución válida\n",
      "F tiempo: 0.0\n",
      "El texto contiene 10378 caracteres\n",
      "para n= 6\n",
      "n= 6 no es una solución válida\n",
      "F tiempo: 0.0009980201721191406\n",
      "El texto contiene 10378 caracteres\n",
      "para n= 7\n",
      "n= 7 no es una solución válida\n",
      "F tiempo: 0.0010106563568115234\n",
      "El texto contiene 10378 caracteres\n",
      "para n= 8\n",
      "n= 8 SI una solución válida\n",
      "OK tiempo: 0.0020003318786621094\n",
      "no es una solución óptima\n"
     ]
    }
   ],
   "source": [
    "n=2 # valor inicial de n\n",
    "solucion = busca_solucion(n, quijote_data)\n",
    "\n",
    "if len(solucion) == len(quijote_data):\n",
    "    print (\"no es una solución óptima\")"
   ]
  },
  {
   "cell_type": "code",
   "execution_count": 16,
   "id": "2d7373c5",
   "metadata": {},
   "outputs": [
    {
     "data": {
      "text/html": [
       "<div>\n",
       "<style scoped>\n",
       "    .dataframe tbody tr th:only-of-type {\n",
       "        vertical-align: middle;\n",
       "    }\n",
       "\n",
       "    .dataframe tbody tr th {\n",
       "        vertical-align: top;\n",
       "    }\n",
       "\n",
       "    .dataframe thead th {\n",
       "        text-align: right;\n",
       "    }\n",
       "</style>\n",
       "<table border=\"1\" class=\"dataframe\">\n",
       "  <thead>\n",
       "    <tr style=\"text-align: right;\">\n",
       "      <th></th>\n",
       "      <th>value</th>\n",
       "      <th>key</th>\n",
       "      <th>count</th>\n",
       "    </tr>\n",
       "  </thead>\n",
       "  <tbody>\n",
       "    <tr>\n",
       "      <th>1</th>\n",
       "      <td></td>\n",
       "      <td>[00032296, 00103500, 00140511, 00207393, 00350...</td>\n",
       "      <td>1731</td>\n",
       "    </tr>\n",
       "    <tr>\n",
       "      <th>34</th>\n",
       "      <td>e</td>\n",
       "      <td>[00106526, 00237187, 00447215, 00459741, 00475...</td>\n",
       "      <td>1067</td>\n",
       "    </tr>\n",
       "    <tr>\n",
       "      <th>30</th>\n",
       "      <td>a</td>\n",
       "      <td>[00034728, 00129513, 00137277, 00207424, 00221...</td>\n",
       "      <td>1017</td>\n",
       "    </tr>\n",
       "    <tr>\n",
       "      <th>43</th>\n",
       "      <td>o</td>\n",
       "      <td>[00042296, 00165069, 00225547, 00317031, 00347...</td>\n",
       "      <td>734</td>\n",
       "    </tr>\n",
       "    <tr>\n",
       "      <th>47</th>\n",
       "      <td>s</td>\n",
       "      <td>[00006167, 00223929, 00341587, 00419759, 00583...</td>\n",
       "      <td>571</td>\n",
       "    </tr>\n",
       "    <tr>\n",
       "      <th>...</th>\n",
       "      <td>...</td>\n",
       "      <td>...</td>\n",
       "      <td>...</td>\n",
       "    </tr>\n",
       "    <tr>\n",
       "      <th>2</th>\n",
       "      <td>!</td>\n",
       "      <td>[08313667]</td>\n",
       "      <td>1</td>\n",
       "    </tr>\n",
       "    <tr>\n",
       "      <th>9</th>\n",
       "      <td>?</td>\n",
       "      <td>[57543781]</td>\n",
       "      <td>1</td>\n",
       "    </tr>\n",
       "    <tr>\n",
       "      <th>28</th>\n",
       "      <td>U</td>\n",
       "      <td>[86315030]</td>\n",
       "      <td>1</td>\n",
       "    </tr>\n",
       "    <tr>\n",
       "      <th>22</th>\n",
       "      <td>O</td>\n",
       "      <td>[27312022]</td>\n",
       "      <td>1</td>\n",
       "    </tr>\n",
       "    <tr>\n",
       "      <th>62</th>\n",
       "      <td>ü</td>\n",
       "      <td>[86536737]</td>\n",
       "      <td>1</td>\n",
       "    </tr>\n",
       "  </tbody>\n",
       "</table>\n",
       "<p>63 rows × 3 columns</p>\n",
       "</div>"
      ],
      "text/plain": [
       "   value                                                key  count\n",
       "1         [00032296, 00103500, 00140511, 00207393, 00350...   1731\n",
       "34     e  [00106526, 00237187, 00447215, 00459741, 00475...   1067\n",
       "30     a  [00034728, 00129513, 00137277, 00207424, 00221...   1017\n",
       "43     o  [00042296, 00165069, 00225547, 00317031, 00347...    734\n",
       "47     s  [00006167, 00223929, 00341587, 00419759, 00583...    571\n",
       "..   ...                                                ...    ...\n",
       "2      !                                         [08313667]      1\n",
       "9      ?                                         [57543781]      1\n",
       "28     U                                         [86315030]      1\n",
       "22     O                                         [27312022]      1\n",
       "62     ü                                         [86536737]      1\n",
       "\n",
       "[63 rows x 3 columns]"
      ]
     },
     "execution_count": 16,
     "metadata": {},
     "output_type": "execute_result"
    }
   ],
   "source": [
    "\n",
    "# create a matrix with the solution, with the values of the dictionary\n",
    "# and the keys of the dictionary, sorted by value\n",
    "\n",
    "matrix = []\n",
    "for key, value in solucion.items():\n",
    "    matrix.append([key, value])\n",
    "\n",
    "matrix.sort(key=lambda x: x[0])\n",
    "\n",
    "# import matrix into a dataframe\n",
    "import pandas as pd\n",
    "\n",
    "df = pd.DataFrame(matrix, columns=['key', 'value'])\n",
    "# group by value, and concatenate the keys into an array\n",
    "df = df.groupby('value').agg(lambda x: list(x)).reset_index()\n",
    "# count the number of keys in each array\n",
    "df['count'] = df['key'].apply(lambda x: len(x))\n",
    "# sort by count\n",
    "df = df.sort_values(by='count', ascending=False)\n",
    "df\n"
   ]
  },
  {
   "cell_type": "code",
   "execution_count": 17,
   "id": "58ac58e4",
   "metadata": {},
   "outputs": [
    {
     "data": {
      "image/png": "[encoded data removed]",
      "text/plain": [
       "<Figure size 1170x827 with 1 Axes>"
      ]
     },
     "metadata": {},
     "output_type": "display_data"
    }
   ],
   "source": [
    "# plot the distribution of the number of keys in each array\n",
    "import matplotlib.pyplot as plt\n",
    "import seaborn as sns\n",
    "sns.set(style=\"whitegrid\")\n",
    "sns.set(rc={'figure.figsize':(11.7,8.27)})\n",
    "ax = sns.barplot(x=\"count\", y=\"value\", data=df)\n",
    "ax.set(xlabel='Number of keys', ylabel='Value')\n",
    "plt.show()\n"
   ]
  }
 ],
 "metadata": {
  "kernelspec": {
   "display_name": "TFG",
   "language": "python",
   "name": "python3"
  },
  "language_info": {
   "codemirror_mode": {
    "name": "ipython",
    "version": 3
   },
   "file_extension": ".py",
   "mimetype": "text/x-python",
   "name": "python",
   "nbconvert_exporter": "python",
   "pygments_lexer": "ipython3",
   "version": "3.10.9"
  },
  "vscode": {
   "interpreter": {
    "hash": "9c35489f7caf60440c1880c3cea6eb5ad83ac8aa1f2d71c95c2cebb9fb57248d"
   }
  }
 },
 "nbformat": 4,
 "nbformat_minor": 5
}
