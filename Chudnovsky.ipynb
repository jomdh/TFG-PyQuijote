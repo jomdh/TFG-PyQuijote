{
 "cells": [
  {
   "cell_type": "code",
   "execution_count": 26,
   "metadata": {},
   "outputs": [],
   "source": [
    "# implementación del algoritmo de Chudnovsky para calcular pi.\n",
    "# Autor de esta version: J. Martinez @jomdh (github)\n",
    "# basado en el código de Mark Becwar @thebecwar en github.\n",
    "# url: original https://gist.github.com/thebecwar/b53f3a9b6e0428a40b27d99745c794a8\n",
    "\n",
    "# importamos las librerías necesarias\n",
    "import time\n",
    "import decimal\n",
    "import functools"
   ]
  },
  {
   "cell_type": "code",
   "execution_count": 27,
   "metadata": {},
   "outputs": [],
   "source": [
    "\n",
    "# a modo de referencia,  estos son los primeros 100 dígitos de pi\n",
    "pi = decimal.Decimal('3.1415926535897932384626433832795028841971693993751058209749445923078164062862089986280348253421170679')\n",
    "\n",
    "\n",
    "# función factorial, con cache para mejorar el rendimiento.\n",
    "@functools.lru_cache(maxsize=None)\n",
    "def fact(n):\n",
    "    res = 1\n",
    "    for i in range(1, n+1):\n",
    "        res *= i\n",
    "    return res\n",
    "\n",
    "\n",
    "# Denominador- calcula la suma de 0 a k.\n",
    "@functools.lru_cache(maxsize=None)\n",
    "def den(k):\n",
    "    # implementación de la fórmula de Chudnovsky\n",
    "    a = decimal.Decimal(fact(6*k)*(545140134*k+13591409))\n",
    "    b = decimal.Decimal(fact(3*k)*(fact(k)**3)*((-262537412640768000)**k))\n",
    "    res = a / b\n",
    "    if k > 0:\n",
    "        return res + den(k - 1)\n",
    "    else:\n",
    "        return res\n",
    "\n",
    "\n",
    "\n",
    "#Numerador- root_precision es el número de dígitos significativos a usar al calcular la raíz.\n",
    "    \n",
    "@functools.lru_cache(maxsize=None)\n",
    "def num(root_precision):\n",
    "    with decimal.localcontext() as ctx:\n",
    "        ctx.prec = root_precision\n",
    "        return 426880 * decimal.Decimal(10005).sqrt()\n",
    "\n",
    "# Calcula el algoritmo de Chudnovsky para un k y precisión dados.\n",
    "def chudnovsky(k, root_precision):\n",
    "    return num(root_precision)/den(k)\n",
    "  \n"
   ]
  },
  {
   "cell_type": "code",
   "execution_count": 46,
   "metadata": {},
   "outputs": [],
   "source": [
    "# función principal, que calcula pi con n dígitos de precisión.\n",
    "# parámeteros: n: número de dígitos de precisión\n",
    "# devuelve: pi_estimate: valor de pi con n dígitos de precisión\n",
    "# imprime: el valor de pi con n dígitos de precisión, y el tiempo que ha tardado en calcularlo.\n",
    "\n",
    "def get_pi(n):\n",
    "    # establecer la precisión decimal.\n",
    "    decimal.getcontext().prec = n + 2\n",
    "    # no es necesario calcular más dígitos de los que se piden, \n",
    "    # pero es necesario calcular más de los que se piden para calcular el valor exacto.\n",
    "    root_precision = int (n * 1.2)\n",
    "    time_start = time.time()\n",
    "    pi_estimate = chudnovsky(n, root_precision)\n",
    "    time_end = time.time()\n",
    "\n",
    "    # imprimir información sobre la ejecución del algoritmo.\n",
    "    if decimal.getcontext().prec < 100:\n",
    "        print(pi_estimate)\n",
    "    else:\n",
    "        # print pi_estimate decimals length\n",
    "        print(\"decimals length: {}\".format(decimal.getcontext().prec))\n",
    "    print('Time taken: {} seconds'.format(time_end - time_start))\n",
    "\n",
    "    # devolver el valor de pi.\n",
    "    return pi_estimate\n",
    "s\n",
    "\n"
   ]
  },
  {
   "cell_type": "code",
   "execution_count": 47,
   "metadata": {},
   "outputs": [
    {
     "name": "stdout",
     "output_type": "stream",
     "text": [
      "decimals length: 104\n",
      "Time taken: 0.0 seconds\n",
      "decimals length: 102\n",
      "Time taken: 0.0 seconds\n",
      "3.14159265358979323846264338327950288419716939937510582097494459230781640628620899862803482534211706799\n",
      "3.1415926535897932384626433832795028841971693993751058209749445923078164062862089986280348253421170679\n"
     ]
    }
   ],
   "source": [
    "# # save pi_estimate to a file\n",
    "# with open('test_pi_estimate.txt', 'w') as f:\n",
    "#     f.write(str(pi_nums))\n",
    "\n",
    "# # prueba del algoritmo\n",
    "get_pi(102) == pi\n",
    "pi\n",
    "print (get_pi(100))\n",
    "print (pi)\n",
    "\n"
   ]
  }
 ],
 "metadata": {
  "kernelspec": {
   "display_name": "TFG",
   "language": "python",
   "name": "python3"
  },
  "language_info": {
   "codemirror_mode": {
    "name": "ipython",
    "version": 3
   },
   "file_extension": ".py",
   "mimetype": "text/x-python",
   "name": "python",
   "nbconvert_exporter": "python",
   "pygments_lexer": "ipython3",
   "version": "3.10.9 | packaged by conda-forge | (main, Jan 11 2023, 15:15:40) [MSC v.1916 64 bit (AMD64)]"
  },
  "orig_nbformat": 4,
  "vscode": {
   "interpreter": {
    "hash": "9c35489f7caf60440c1880c3cea6eb5ad83ac8aa1f2d71c95c2cebb9fb57248d"
   }
  }
 },
 "nbformat": 4,
 "nbformat_minor": 2
}
