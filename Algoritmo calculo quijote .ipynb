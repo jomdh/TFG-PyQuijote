{
 "cells": [
  {
   "cell_type": "code",
   "execution_count": 1,
   "id": "b23adefe",
   "metadata": {},
   "outputs": [],
   "source": [
    "# %pip install wget\n",
    "# !python -m wget  https://www.gutenberg.org/cache/epub/2000/pg2000.txt"
   ]
  },
  {
   "cell_type": "code",
   "execution_count": 2,
   "id": "c1fa72f9-21b3-41ff-944c-970ae5d4b5c8",
   "metadata": {},
   "outputs": [],
   "source": [
    "import pandas as pd\n",
    "from pathlib import Path"
   ]
  },
  {
   "cell_type": "code",
   "execution_count": 3,
   "id": "64c2a019-bdeb-4dec-8651-83fa15d1855a",
   "metadata": {},
   "outputs": [],
   "source": [
    "import time"
   ]
  },
  {
   "cell_type": "code",
   "execution_count": 4,
   "id": "e7d0e098-9102-4e87-b55d-240d1459e8f1",
   "metadata": {},
   "outputs": [],
   "source": [
    "import itertools"
   ]
  },
  {
   "cell_type": "code",
   "execution_count": 5,
   "id": "4d781e49-f270-4d49-9cb4-6051b5e04b3f",
   "metadata": {},
   "outputs": [],
   "source": [
    "from textwrap import wrap"
   ]
  },
  {
   "cell_type": "code",
   "execution_count": 6,
   "id": "206e7552-a420-4621-8e4c-34fab867aeaa",
   "metadata": {},
   "outputs": [
    {
     "data": {
      "text/plain": [
       "True"
      ]
     },
     "execution_count": 6,
     "metadata": {},
     "output_type": "execute_result"
    }
   ],
   "source": [
    "recursos = Path.cwd() / \"recursos\"\n",
    "pi_file = recursos / 'pi50kdigits.txt'\n",
    "pi_file.exists()\n",
    "\n",
    "quijote_file = recursos / 'pg2000.txt'\n",
    "quijote_file.exists()"
   ]
  },
  {
   "cell_type": "code",
   "execution_count": 7,
   "id": "d9806a8e-e189-4e05-8b4c-e7c9f89b74e6",
   "metadata": {},
   "outputs": [
    {
     "ename": "FileNotFoundError",
     "evalue": "[Errno 2] No such file or directory: 'c:\\\\Users\\\\Joaqu\\\\Devel\\\\TFG-PyQuijote\\\\recursos\\\\pi50kdigits.txt'",
     "output_type": "error",
     "traceback": [
      "\u001b[1;31m---------------------------------------------------------------------------\u001b[0m",
      "\u001b[1;31mFileNotFoundError\u001b[0m                         Traceback (most recent call last)",
      "\u001b[1;32mc:\\Users\\Joaqu\\Devel\\TFG-PyQuijote\\Algoritmo calculo quijote .ipynb Cell 7\u001b[0m in \u001b[0;36m<cell line: 1>\u001b[1;34m()\u001b[0m\n\u001b[1;32m----> <a href='vscode-notebook-cell:/c%3A/Users/Joaqu/Devel/TFG-PyQuijote/Algoritmo%20calculo%20quijote%20.ipynb#X12sZmlsZQ%3D%3D?line=0'>1</a>\u001b[0m \u001b[39mwith\u001b[39;00m \u001b[39mopen\u001b[39;49m(pi_file, \u001b[39m'\u001b[39;49m\u001b[39mr\u001b[39;49m\u001b[39m'\u001b[39;49m) \u001b[39mas\u001b[39;00m file:\n\u001b[0;32m      <a href='vscode-notebook-cell:/c%3A/Users/Joaqu/Devel/TFG-PyQuijote/Algoritmo%20calculo%20quijote%20.ipynb#X12sZmlsZQ%3D%3D?line=1'>2</a>\u001b[0m     pi_data \u001b[39m=\u001b[39m file\u001b[39m.\u001b[39mread()\u001b[39m.\u001b[39mrstrip()\n",
      "\u001b[1;31mFileNotFoundError\u001b[0m: [Errno 2] No such file or directory: 'c:\\\\Users\\\\Joaqu\\\\Devel\\\\TFG-PyQuijote\\\\recursos\\\\pi50kdigits.txt'"
     ]
    }
   ],
   "source": [
    "with open(pi_file, 'r') as file:\n",
    "    pi_data = file.read().rstrip()"
   ]
  },
  {
   "cell_type": "code",
   "execution_count": null,
   "id": "571022eb-8243-4a00-b3f4-b331e030cba3",
   "metadata": {},
   "outputs": [],
   "source": [
    "# longitud en caracteres de cada trozo de pi. como minimo dos, \n",
    "# ya que el alfabeto y todos los caracteres imprimibles pueden rondar los 100\n",
    "n = 2"
   ]
  },
  {
   "cell_type": "code",
   "execution_count": null,
   "id": "dbbabf16-f1b7-4cc9-a2eb-729c8fc65e1e",
   "metadata": {},
   "outputs": [
    {
     "name": "stdout",
     "output_type": "stream",
     "text": [
      "0.0009717941284179688\n"
     ]
    }
   ],
   "source": [
    "# mapeamos los decimales de pi en trozos de n-elementos\n",
    "# itertools.zip_longest se encarga de los impares sueltos\n",
    "\n",
    "start = time.time()\n",
    "b = map(''.join, itertools.zip_longest(*[iter(pi_data[2:])]*n, fillvalue=''))\n",
    "end = time.time()\n",
    "print(end - start)"
   ]
  },
  {
   "cell_type": "code",
   "execution_count": null,
   "id": "9ffcf104-6437-416c-b1c0-12cc2e14a1b3",
   "metadata": {},
   "outputs": [],
   "source": [
    "# tantos trozos de pi como caracteres totales en texto\n",
    "nlist = list(b)[:l]"
   ]
  },
  {
   "cell_type": "code",
   "execution_count": null,
   "id": "64ba612b-ea6b-49a3-8cfe-bc48c3d60e7c",
   "metadata": {},
   "outputs": [
    {
     "name": "stdout",
     "output_type": "stream",
     "text": [
      "not valid\n"
     ]
    }
   ],
   "source": [
    "# búsqueda: intenta crear un diccionario key:value en el que todo key sea único.\n",
    "# si no lo consigue, sale del bucle.\n",
    "# esta es una versión académica, pero se puede hacer más elegante.\n",
    "\n",
    "res2 = {}\n",
    "i=0\n",
    "for key in nlist:\n",
    "    if not key in res2:\n",
    "        res2[key] = text[i]\n",
    "    else:\n",
    "        if res2[key] == text[i]:\n",
    "            continue\n",
    "        else:\n",
    "            print ('not valid')\n",
    "            break\n",
    "    i = i+1"
   ]
  },
  {
   "cell_type": "code",
   "execution_count": null,
   "id": "ba0bb205-f362-4e39-a750-99ae192fc490",
   "metadata": {},
   "outputs": [
    {
     "data": {
      "text/plain": [
       "{'14': 'U',\n",
       " '15': 'n',\n",
       " '92': 'i',\n",
       " '65': 'r',\n",
       " '35': ',',\n",
       " '89': ' ',\n",
       " '79': 'l',\n",
       " '32': 'a',\n",
       " '38': ' ',\n",
       " '46': 'U',\n",
       " '26': 'n',\n",
       " '43': 'i'}"
      ]
     },
     "execution_count": 16,
     "metadata": {},
     "output_type": "execute_result"
    }
   ],
   "source": [
    "res2\n"
   ]
  },
  {
   "cell_type": "code",
   "execution_count": null,
   "id": "7bbe2a20-0079-4a7a-bb13-23d470c9ad00",
   "metadata": {},
   "outputs": [
    {
     "data": {
      "text/plain": [
       "12"
      ]
     },
     "execution_count": 17,
     "metadata": {},
     "output_type": "execute_result"
    }
   ],
   "source": [
    "len(res2)"
   ]
  },
  {
   "cell_type": "code",
   "execution_count": null,
   "id": "b444bb83-c16e-4516-bcba-a0d2a1e33e2c",
   "metadata": {},
   "outputs": [],
   "source": [
    "# todo junto hasta que lo encuentre:\n",
    "\n",
    "def map_pi(n,l):\n",
    "    with open(pi_file, 'r') as file:\n",
    "        pi_data = file.read().rstrip()\n",
    "        m = map(''.join, itertools.zip_longest(\n",
    "            *[iter(pi_data[2:])]*n, fillvalue=''))\n",
    "        return list(m)[:l]"
   ]
  },
  {
   "cell_type": "code",
   "execution_count": null,
   "id": "051af848-d459-4dcd-b91b-66a9f08ecc43",
   "metadata": {},
   "outputs": [],
   "source": [
    "#loop\n",
    "def busca_solucion(n, text):\n",
    "    fin = False\n",
    "    while not fin:\n",
    "        print(\"para n= %s\" % n)\n",
    "        solucion = {}\n",
    "        keys = map_pi(n,len(text))\n",
    "        #timer\n",
    "        start = time.time()\n",
    "        #loop principal\n",
    "        fin = True\n",
    "        for i, key in enumerate(keys):\n",
    "            if not key in solucion:\n",
    "                solucion[key] = text[i]\n",
    "            else:\n",
    "                if solucion[key] == text[i]:\n",
    "                    continue\n",
    "                else:\n",
    "                    print ('n= %s no es una solución válida' % n)\n",
    "                    n = n+1\n",
    "                    fin = False\n",
    "                    end = time.time()\n",
    "                    print( 'F tiempo: %s' % (end - start))\n",
    "                    break\n",
    "    end = time.time()\n",
    "    print ('n= %s SI una solución válida' % n)\n",
    "    print( 'OK tiempo: %s' % (end - start))\n",
    "    return solucion\n",
    "\n",
    "    "
   ]
  },
  {
   "cell_type": "code",
   "execution_count": null,
   "id": "606b06ac-7361-4de8-957a-bfae68ae89b3",
   "metadata": {},
   "outputs": [
    {
     "name": "stdout",
     "output_type": "stream",
     "text": [
      "para n= 2\n",
      "n= 2 no es una solución válida\n",
      "F tiempo: 0.0009670257568359375\n",
      "para n= 3\n",
      "n= 3 no es una solución válida\n",
      "F tiempo: 0.0\n",
      "para n= 4\n",
      "n= 4 SI una solución válida\n",
      "OK tiempo: 0.0\n",
      "no es una solución óptima\n"
     ]
    }
   ],
   "source": [
    "n=2\n",
    "text = \"Unir, la Universidad online.\"\n",
    "solucion = busca_solucion(n, text)\n",
    "\n",
    "if len(solucion) == len(text):\n",
    "    print (\"no es una solución óptima\")"
   ]
  },
  {
   "cell_type": "code",
   "execution_count": null,
   "id": "b6e26498-6528-4a9b-bdd7-21534aa56258",
   "metadata": {},
   "outputs": [
    {
     "data": {
      "text/plain": [
       "2117496"
      ]
     },
     "execution_count": 21,
     "metadata": {},
     "output_type": "execute_result"
    }
   ],
   "source": [
    "# open quijote_file and read it as utf-8    \n",
    "with open(quijote_file, 'r', encoding='utf-8-sig') as file:\n",
    "    quijote_data = file.read().rstrip()\n",
    "\n",
    "\n",
    "\n",
    "# caracteres unicos en los mil primeros caracteres\n",
    "u1000 = len(list( dict.fromkeys(quijote_data[:1000])))\n",
    "\n",
    "\n",
    "\n",
    "u = len(list( dict.fromkeys(quijote_data)))\n",
    "u\n",
    "\n",
    "# longitud en caracteres del texto\n",
    "l = len(quijote_data)\n",
    "l"
   ]
  }
 ],
 "metadata": {
  "kernelspec": {
   "display_name": "TFG",
   "language": "python",
   "name": "python3"
  },
  "language_info": {
   "codemirror_mode": {
    "name": "ipython",
    "version": 3
   },
   "file_extension": ".py",
   "mimetype": "text/x-python",
   "name": "python",
   "nbconvert_exporter": "python",
   "pygments_lexer": "ipython3",
   "version": "3.10.4"
  },
  "vscode": {
   "interpreter": {
    "hash": "9c35489f7caf60440c1880c3cea6eb5ad83ac8aa1f2d71c95c2cebb9fb57248d"
   }
  }
 },
 "nbformat": 4,
 "nbformat_minor": 5
}
