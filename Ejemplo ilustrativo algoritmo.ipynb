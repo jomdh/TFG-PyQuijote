{
 "cells": [
  {
   "cell_type": "code",
   "execution_count": 1,
   "id": "b23adefe",
   "metadata": {},
   "outputs": [],
   "source": [
    "# %pip install wget\n",
    "# !python -m wget  https://www.gutenberg.org/cache/epub/2000/pg2000.txt"
   ]
  },
  {
   "cell_type": "code",
   "execution_count": 2,
   "id": "c1fa72f9-21b3-41ff-944c-970ae5d4b5c8",
   "metadata": {},
   "outputs": [],
   "source": [
    "import pandas as pd\n",
    "from pathlib import Path"
   ]
  },
  {
   "cell_type": "code",
   "execution_count": 3,
   "id": "64c2a019-bdeb-4dec-8651-83fa15d1855a",
   "metadata": {},
   "outputs": [],
   "source": [
    "import time"
   ]
  },
  {
   "cell_type": "code",
   "execution_count": 4,
   "id": "e7d0e098-9102-4e87-b55d-240d1459e8f1",
   "metadata": {},
   "outputs": [],
   "source": [
    "import itertools"
   ]
  },
  {
   "cell_type": "code",
   "execution_count": 5,
   "id": "4d781e49-f270-4d49-9cb4-6051b5e04b3f",
   "metadata": {},
   "outputs": [],
   "source": [
    "from textwrap import wrap"
   ]
  },
  {
   "cell_type": "code",
   "execution_count": 6,
   "id": "206e7552-a420-4621-8e4c-34fab867aeaa",
   "metadata": {},
   "outputs": [
    {
     "data": {
      "text/plain": [
       "True"
      ]
     },
     "execution_count": 6,
     "metadata": {},
     "output_type": "execute_result"
    }
   ],
   "source": [
    "recursos = Path.cwd() / \"recursos\"\n",
    "pi_file = recursos / 'pi_10K.txt'\n",
    "pi_file.exists()\n",
    "\n",
    "quijote_file = recursos / 'pg2000.txt'\n",
    "quijote_file.exists()"
   ]
  },
  {
   "cell_type": "code",
   "execution_count": 7,
   "id": "0dc83e30-7ad7-4981-9073-78ce3a44dfaf",
   "metadata": {},
   "outputs": [],
   "source": [
    "text = \"Unir, la Universidad online.\""
   ]
  },
  {
   "cell_type": "code",
   "execution_count": 8,
   "id": "d10c63ab-0341-4e3c-95bc-5a08e0ad631c",
   "metadata": {},
   "outputs": [],
   "source": [
    "l= (len(text))"
   ]
  },
  {
   "cell_type": "code",
   "execution_count": 9,
   "id": "47e7d0ee-3127-4786-88d1-31097f7fa820",
   "metadata": {},
   "outputs": [],
   "source": [
    "u = len(list( dict.fromkeys(text)))"
   ]
  },
  {
   "cell_type": "code",
   "execution_count": 10,
   "id": "d9806a8e-e189-4e05-8b4c-e7c9f89b74e6",
   "metadata": {},
   "outputs": [],
   "source": [
    "with open(pi_file, 'r') as file:\n",
    "    pi_data = file.read().rstrip()"
   ]
  },
  {
   "cell_type": "code",
   "execution_count": 11,
   "id": "571022eb-8243-4a00-b3f4-b331e030cba3",
   "metadata": {},
   "outputs": [],
   "source": [
    "# longitud en caracteres de cada trozo de pi. como minimo dos, \n",
    "# ya que el alfabeto y todos los caracteres imprimibles pueden rondar los 100\n",
    "n = 2"
   ]
  },
  {
   "cell_type": "code",
   "execution_count": 12,
   "id": "dbbabf16-f1b7-4cc9-a2eb-729c8fc65e1e",
   "metadata": {},
   "outputs": [
    {
     "name": "stdout",
     "output_type": "stream",
     "text": [
      "0.0\n"
     ]
    }
   ],
   "source": [
    "# mapeamos los decimales de pi en trozos de n-elementos\n",
    "# itertools.zip_longest se encarga de los impares sueltos\n",
    "\n",
    "start = time.time()\n",
    "b = map(''.join, itertools.zip_longest(*[iter(pi_data[2:])]*n, fillvalue=''))\n",
    "end = time.time()\n",
    "print(end - start)"
   ]
  },
  {
   "cell_type": "code",
   "execution_count": 13,
   "id": "9ffcf104-6437-416c-b1c0-12cc2e14a1b3",
   "metadata": {},
   "outputs": [],
   "source": [
    "# tantos trozos de pi como caracteres totales en texto\n",
    "nlist = list(b)[:l]"
   ]
  },
  {
   "cell_type": "code",
   "execution_count": 14,
   "id": "64ba612b-ea6b-49a3-8cfe-bc48c3d60e7c",
   "metadata": {},
   "outputs": [
    {
     "name": "stdout",
     "output_type": "stream",
     "text": [
      "not valid\n"
     ]
    }
   ],
   "source": [
    "# búsqueda: intenta crear un diccionario key:value en el que todo key sea único.\n",
    "# si no lo consigue, sale del bucle.\n",
    "# esta es una versión académica, pero se puede hacer más elegante.\n",
    "\n",
    "res2 = {}\n",
    "i=0\n",
    "for key in nlist:\n",
    "    if not key in res2:\n",
    "        res2[key] = text[i]\n",
    "    else:\n",
    "        if res2[key] == text[i]:\n",
    "            continue\n",
    "        else:\n",
    "            print ('not valid')\n",
    "            break\n",
    "    i = i+1"
   ]
  },
  {
   "cell_type": "code",
   "execution_count": 15,
   "id": "ba0bb205-f362-4e39-a750-99ae192fc490",
   "metadata": {},
   "outputs": [
    {
     "data": {
      "text/plain": [
       "{'14': 'U',\n",
       " '15': 'n',\n",
       " '92': 'i',\n",
       " '65': 'r',\n",
       " '35': ',',\n",
       " '89': ' ',\n",
       " '79': 'l',\n",
       " '32': 'a',\n",
       " '38': ' ',\n",
       " '46': 'U',\n",
       " '26': 'n',\n",
       " '43': 'i'}"
      ]
     },
     "execution_count": 15,
     "metadata": {},
     "output_type": "execute_result"
    }
   ],
   "source": [
    "res2\n"
   ]
  },
  {
   "cell_type": "code",
   "execution_count": 16,
   "id": "7bbe2a20-0079-4a7a-bb13-23d470c9ad00",
   "metadata": {},
   "outputs": [
    {
     "data": {
      "text/plain": [
       "12"
      ]
     },
     "execution_count": 16,
     "metadata": {},
     "output_type": "execute_result"
    }
   ],
   "source": [
    "len(res2)"
   ]
  },
  {
   "cell_type": "code",
   "execution_count": 17,
   "id": "b444bb83-c16e-4516-bcba-a0d2a1e33e2c",
   "metadata": {},
   "outputs": [],
   "source": [
    "# todo junto hasta que lo encuentre:\n",
    "\n",
    "def map_pi(n,l):\n",
    "    with open(pi_file, 'r') as file:\n",
    "        pi_data = file.read().rstrip()\n",
    "        m = map(''.join, itertools.zip_longest(\n",
    "            *[iter(pi_data[2:])]*n, fillvalue=''))\n",
    "        return list(m)[:l]"
   ]
  },
  {
   "cell_type": "code",
   "execution_count": 18,
   "id": "051af848-d459-4dcd-b91b-66a9f08ecc43",
   "metadata": {},
   "outputs": [],
   "source": [
    "#loop\n",
    "def busca_solucion(n, text):\n",
    "    fin = False\n",
    "    while not fin:\n",
    "        print(\"para n= %s\" % n)\n",
    "        solucion = {}\n",
    "        keys = map_pi(n,len(text))\n",
    "        #timer\n",
    "        start = time.time()\n",
    "        #loop principal\n",
    "        fin = True\n",
    "        for i, key in enumerate(keys):\n",
    "            if not key in solucion:\n",
    "                solucion[key] = text[i]\n",
    "            else:\n",
    "                if solucion[key] == text[i]:\n",
    "                    continue\n",
    "                else:\n",
    "                    print ('n= %s no es una solución válida' % n)\n",
    "                    n = n+1\n",
    "                    fin = False\n",
    "                    end = time.time()\n",
    "                    print( 'F tiempo: %s' % (end - start))\n",
    "                    break\n",
    "    end = time.time()\n",
    "    print ('n= %s SI una solución válida' % n)\n",
    "    print( 'OK tiempo: %s' % (end - start))\n",
    "    return solucion\n",
    "\n",
    "    "
   ]
  },
  {
   "cell_type": "code",
   "execution_count": 19,
   "id": "606b06ac-7361-4de8-957a-bfae68ae89b3",
   "metadata": {},
   "outputs": [
    {
     "name": "stdout",
     "output_type": "stream",
     "text": [
      "para n= 2\n",
      "n= 2 no es una solución válida\n",
      "F tiempo: 0.0\n",
      "para n= 3\n",
      "n= 3 no es una solución válida\n",
      "F tiempo: 0.0\n",
      "para n= 4\n",
      "n= 4 SI una solución válida\n",
      "OK tiempo: 0.0\n",
      "no es una solución óptima\n"
     ]
    }
   ],
   "source": [
    "n=2\n",
    "text = \"Unir, la Universidad online.\"\n",
    "solucion = busca_solucion(n, text)\n",
    "\n",
    "if len(solucion) == len(text):\n",
    "    print (\"no es una solución óptima\")"
   ]
  }
 ],
 "metadata": {
  "kernelspec": {
   "display_name": "TFG",
   "language": "python",
   "name": "python3"
  },
  "language_info": {
   "codemirror_mode": {
    "name": "ipython",
    "version": 3
   },
   "file_extension": ".py",
   "mimetype": "text/x-python",
   "name": "python",
   "nbconvert_exporter": "python",
   "pygments_lexer": "ipython3",
   "version": "3.10.9"
  },
  "vscode": {
   "interpreter": {
    "hash": "9c35489f7caf60440c1880c3cea6eb5ad83ac8aa1f2d71c95c2cebb9fb57248d"
   }
  }
 },
 "nbformat": 4,
 "nbformat_minor": 5
}
