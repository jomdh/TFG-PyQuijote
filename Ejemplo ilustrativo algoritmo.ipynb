{
 "cells": [
  {
   "cell_type": "code",
   "execution_count": 44,
   "id": "b23adefe",
   "metadata": {},
   "outputs": [],
   "source": [
    "# %pip install wget\n",
    "# !python -m wget  https://www.gutenberg.org/cache/epub/2000/pg2000.txt"
   ]
  },
  {
   "cell_type": "code",
   "execution_count": 45,
   "id": "c1fa72f9-21b3-41ff-944c-970ae5d4b5c8",
   "metadata": {},
   "outputs": [],
   "source": [
    "import pandas as pd\n",
    "from pathlib import Path"
   ]
  },
  {
   "cell_type": "code",
   "execution_count": 46,
   "id": "64c2a019-bdeb-4dec-8651-83fa15d1855a",
   "metadata": {},
   "outputs": [],
   "source": [
    "import time"
   ]
  },
  {
   "cell_type": "code",
   "execution_count": 47,
   "id": "e7d0e098-9102-4e87-b55d-240d1459e8f1",
   "metadata": {},
   "outputs": [],
   "source": [
    "import itertools"
   ]
  },
  {
   "cell_type": "code",
   "execution_count": 48,
   "id": "4d781e49-f270-4d49-9cb4-6051b5e04b3f",
   "metadata": {},
   "outputs": [],
   "source": [
    "from textwrap import wrap"
   ]
  },
  {
   "cell_type": "code",
   "execution_count": 49,
   "id": "206e7552-a420-4621-8e4c-34fab867aeaa",
   "metadata": {},
   "outputs": [
    {
     "data": {
      "text/plain": [
       "True"
      ]
     },
     "execution_count": 49,
     "metadata": {},
     "output_type": "execute_result"
    }
   ],
   "source": [
    "recursos = Path.cwd() / \"recursos\"\n",
    "pi_file = recursos / 'pi_10K.txt'\n",
    "pi_file.exists()"
   ]
  },
  {
   "cell_type": "code",
   "execution_count": 50,
   "id": "0dc83e30-7ad7-4981-9073-78ce3a44dfaf",
   "metadata": {},
   "outputs": [],
   "source": [
    "text = \"Unir, la Universidad en internet.\""
   ]
  },
  {
   "cell_type": "code",
   "execution_count": 51,
   "id": "d10c63ab-0341-4e3c-95bc-5a08e0ad631c",
   "metadata": {},
   "outputs": [
    {
     "name": "stdout",
     "output_type": "stream",
     "text": [
      "33\n"
     ]
    }
   ],
   "source": [
    "l= (len(text))\n",
    "print(l)"
   ]
  },
  {
   "cell_type": "code",
   "execution_count": 52,
   "id": "47e7d0ee-3127-4786-88d1-31097f7fa820",
   "metadata": {},
   "outputs": [
    {
     "name": "stdout",
     "output_type": "stream",
     "text": [
      "14\n",
      "['U', 'n', 'i', 'r', ',', ' ', 'l', 'a', 'v', 'e', 's', 'd', 't', '.']\n"
     ]
    }
   ],
   "source": [
    "u = len(list( dict.fromkeys(text)))\n",
    "print(u)\n",
    "print(list( dict.fromkeys(text)))\n"
   ]
  },
  {
   "cell_type": "code",
   "execution_count": 53,
   "id": "d9806a8e-e189-4e05-8b4c-e7c9f89b74e6",
   "metadata": {},
   "outputs": [],
   "source": [
    "with open(pi_file, 'r') as file:\n",
    "    pi_data = file.read().rstrip()"
   ]
  },
  {
   "cell_type": "code",
   "execution_count": 54,
   "id": "571022eb-8243-4a00-b3f4-b331e030cba3",
   "metadata": {},
   "outputs": [],
   "source": [
    "# longitud en caracteres de cada trozo de pi. como minimo dos, \n",
    "# ya que el alfabeto y todos los caracteres imprimibles pueden rondar los 100\n",
    "n = 2"
   ]
  },
  {
   "cell_type": "code",
   "execution_count": 55,
   "id": "dbbabf16-f1b7-4cc9-a2eb-729c8fc65e1e",
   "metadata": {},
   "outputs": [
    {
     "name": "stdout",
     "output_type": "stream",
     "text": [
      "0.0\n"
     ]
    }
   ],
   "source": [
    "# mapeamos los decimales de pi en trozos de n-elementos\n",
    "# itertools.zip_longest se encarga de los impares sueltos\n",
    "\n",
    "start = time.time()\n",
    "b = map(''.join, itertools.zip_longest(*[iter(pi_data[2:])]*n, fillvalue=''))\n",
    "end = time.time()\n",
    "print(end - start)"
   ]
  },
  {
   "cell_type": "code",
   "execution_count": 56,
   "id": "9ffcf104-6437-416c-b1c0-12cc2e14a1b3",
   "metadata": {},
   "outputs": [],
   "source": [
    "# tantos trozos de pi como caracteres totales en texto\n",
    "nlist = list(b)[:l]"
   ]
  },
  {
   "cell_type": "code",
   "execution_count": 57,
   "id": "64ba612b-ea6b-49a3-8cfe-bc48c3d60e7c",
   "metadata": {},
   "outputs": [
    {
     "name": "stdout",
     "output_type": "stream",
     "text": [
      "not valid\n"
     ]
    }
   ],
   "source": [
    "# búsqueda: intenta crear un diccionario key:value en el que todo key sea único.\n",
    "# si no lo consigue, sale del bucle.\n",
    "# esta es una versión académica, pero se puede hacer más elegante.\n",
    "\n",
    "res2 = {}\n",
    "i=0\n",
    "for key in nlist:\n",
    "    if not key in res2:\n",
    "        res2[key] = text[i]\n",
    "    else:\n",
    "        if res2[key] == text[i]:\n",
    "            continue\n",
    "        else:\n",
    "            print ('not valid')\n",
    "            break\n",
    "    i = i+1"
   ]
  },
  {
   "cell_type": "code",
   "execution_count": 58,
   "id": "ba0bb205-f362-4e39-a750-99ae192fc490",
   "metadata": {},
   "outputs": [
    {
     "data": {
      "text/plain": [
       "{'14': 'U',\n",
       " '15': 'n',\n",
       " '92': 'i',\n",
       " '65': 'r',\n",
       " '35': ',',\n",
       " '89': ' ',\n",
       " '79': 'l',\n",
       " '32': 'a',\n",
       " '38': ' ',\n",
       " '46': 'U',\n",
       " '26': 'n',\n",
       " '43': 'i'}"
      ]
     },
     "execution_count": 58,
     "metadata": {},
     "output_type": "execute_result"
    }
   ],
   "source": [
    "res2\n"
   ]
  },
  {
   "cell_type": "code",
   "execution_count": 59,
   "id": "7bbe2a20-0079-4a7a-bb13-23d470c9ad00",
   "metadata": {},
   "outputs": [
    {
     "data": {
      "text/plain": [
       "12"
      ]
     },
     "execution_count": 59,
     "metadata": {},
     "output_type": "execute_result"
    }
   ],
   "source": [
    "len(res2)"
   ]
  },
  {
   "cell_type": "code",
   "execution_count": 60,
   "id": "b444bb83-c16e-4516-bcba-a0d2a1e33e2c",
   "metadata": {},
   "outputs": [],
   "source": [
    "# todo junto hasta que lo encuentre:\n",
    "\n",
    "def map_pi(n,l):\n",
    "    with open(pi_file, 'r') as file:\n",
    "        pi_data = file.read().rstrip()\n",
    "        m = map(''.join, itertools.zip_longest(\n",
    "            *[iter(pi_data[2:])]*n, fillvalue=''))\n",
    "        return list(m)[:l]"
   ]
  },
  {
   "cell_type": "code",
   "execution_count": 61,
   "id": "051af848-d459-4dcd-b91b-66a9f08ecc43",
   "metadata": {},
   "outputs": [],
   "source": [
    "#loop\n",
    "def busca_solucion(n, text):\n",
    "    fin = False\n",
    "    while not fin:\n",
    "        print(\"para n= %s\" % n)\n",
    "        solucion = {}\n",
    "        keys = map_pi(n,len(text))\n",
    "        #timer\n",
    "        start = time.time()\n",
    "        #loop principal\n",
    "        fin = True\n",
    "        for i, key in enumerate(keys):\n",
    "            if not key in solucion:\n",
    "                solucion[key] = text[i]\n",
    "            else:\n",
    "                if solucion[key] == text[i]:\n",
    "                    continue\n",
    "                else:\n",
    "                    print ('n= %s no es una solución válida' % n)\n",
    "                    n = n+1\n",
    "                    fin = False\n",
    "                    end = time.time()\n",
    "                    print( 'F tiempo: %s' % (end - start))\n",
    "                    break\n",
    "    end = time.time()\n",
    "    print ('n= %s SI una solución válida' % n)\n",
    "    print( 'OK tiempo: %s' % (end - start))\n",
    "    return solucion\n",
    "\n",
    "    "
   ]
  },
  {
   "cell_type": "code",
   "execution_count": 62,
   "id": "606b06ac-7361-4de8-957a-bfae68ae89b3",
   "metadata": {},
   "outputs": [
    {
     "name": "stdout",
     "output_type": "stream",
     "text": [
      "para n= 2\n",
      "n= 2 no es una solución válida\n",
      "F tiempo: 0.0\n",
      "para n= 3\n",
      "n= 3 no es una solución válida\n",
      "F tiempo: 0.0\n",
      "para n= 4\n",
      "n= 4 SI una solución válida\n",
      "OK tiempo: 0.0\n",
      "no es una solución óptima\n"
     ]
    }
   ],
   "source": [
    "n=2\n",
    "solucion = busca_solucion(n, text)\n",
    "\n",
    "if len(solucion) == len(text):\n",
    "    print (\"no es una solución óptima\")"
   ]
  },
  {
   "cell_type": "code",
   "execution_count": 63,
   "id": "46af658d",
   "metadata": {},
   "outputs": [
    {
     "name": "stdout",
     "output_type": "stream",
     "text": [
      "{'1415': 'U', '9265': 'n', '3589': 'i', '7932': 'r', '3846': ',', '2643': ' ', '3832': 'l', '7950': 'a', '2884': ' ', '1971': 'U', '6939': 'n', '9375': 'i', '1058': 'v', '2097': 'e', '4944': 'r', '5923': 's', '0781': 'i', '6406': 'd', '2862': 'a', '0899': 'd', '8628': ' ', '0348': 'e', '2534': 'n', '2117': ' ', '0679': 'i', '8214': 'n', '8086': 't', '5132': 'e', '8230': 'r', '6647': 'n', '0938': 'e', '4460': 't', '9550': '.'}\n"
     ]
    },
    {
     "data": {
      "text/html": [
       "<div>\n",
       "<style scoped>\n",
       "    .dataframe tbody tr th:only-of-type {\n",
       "        vertical-align: middle;\n",
       "    }\n",
       "\n",
       "    .dataframe tbody tr th {\n",
       "        vertical-align: top;\n",
       "    }\n",
       "\n",
       "    .dataframe thead th {\n",
       "        text-align: right;\n",
       "    }\n",
       "</style>\n",
       "<table border=\"1\" class=\"dataframe\">\n",
       "  <thead>\n",
       "    <tr style=\"text-align: right;\">\n",
       "      <th></th>\n",
       "      <th>value</th>\n",
       "      <th>key</th>\n",
       "      <th>count</th>\n",
       "    </tr>\n",
       "  </thead>\n",
       "  <tbody>\n",
       "    <tr>\n",
       "      <th>9</th>\n",
       "      <td>n</td>\n",
       "      <td>[2534, 6647, 6939, 8214, 9265]</td>\n",
       "      <td>5</td>\n",
       "    </tr>\n",
       "    <tr>\n",
       "      <th>0</th>\n",
       "      <td></td>\n",
       "      <td>[2117, 2643, 2884, 8628]</td>\n",
       "      <td>4</td>\n",
       "    </tr>\n",
       "    <tr>\n",
       "      <th>6</th>\n",
       "      <td>e</td>\n",
       "      <td>[0348, 0938, 2097, 5132]</td>\n",
       "      <td>4</td>\n",
       "    </tr>\n",
       "    <tr>\n",
       "      <th>7</th>\n",
       "      <td>i</td>\n",
       "      <td>[0679, 0781, 3589, 9375]</td>\n",
       "      <td>4</td>\n",
       "    </tr>\n",
       "    <tr>\n",
       "      <th>10</th>\n",
       "      <td>r</td>\n",
       "      <td>[4944, 7932, 8230]</td>\n",
       "      <td>3</td>\n",
       "    </tr>\n",
       "    <tr>\n",
       "      <th>3</th>\n",
       "      <td>U</td>\n",
       "      <td>[1415, 1971]</td>\n",
       "      <td>2</td>\n",
       "    </tr>\n",
       "    <tr>\n",
       "      <th>4</th>\n",
       "      <td>a</td>\n",
       "      <td>[2862, 7950]</td>\n",
       "      <td>2</td>\n",
       "    </tr>\n",
       "    <tr>\n",
       "      <th>5</th>\n",
       "      <td>d</td>\n",
       "      <td>[0899, 6406]</td>\n",
       "      <td>2</td>\n",
       "    </tr>\n",
       "    <tr>\n",
       "      <th>12</th>\n",
       "      <td>t</td>\n",
       "      <td>[4460, 8086]</td>\n",
       "      <td>2</td>\n",
       "    </tr>\n",
       "    <tr>\n",
       "      <th>1</th>\n",
       "      <td>,</td>\n",
       "      <td>[3846]</td>\n",
       "      <td>1</td>\n",
       "    </tr>\n",
       "    <tr>\n",
       "      <th>2</th>\n",
       "      <td>.</td>\n",
       "      <td>[9550]</td>\n",
       "      <td>1</td>\n",
       "    </tr>\n",
       "    <tr>\n",
       "      <th>8</th>\n",
       "      <td>l</td>\n",
       "      <td>[3832]</td>\n",
       "      <td>1</td>\n",
       "    </tr>\n",
       "    <tr>\n",
       "      <th>11</th>\n",
       "      <td>s</td>\n",
       "      <td>[5923]</td>\n",
       "      <td>1</td>\n",
       "    </tr>\n",
       "    <tr>\n",
       "      <th>13</th>\n",
       "      <td>v</td>\n",
       "      <td>[1058]</td>\n",
       "      <td>1</td>\n",
       "    </tr>\n",
       "  </tbody>\n",
       "</table>\n",
       "</div>"
      ],
      "text/plain": [
       "   value                             key  count\n",
       "9      n  [2534, 6647, 6939, 8214, 9265]      5\n",
       "0               [2117, 2643, 2884, 8628]      4\n",
       "6      e        [0348, 0938, 2097, 5132]      4\n",
       "7      i        [0679, 0781, 3589, 9375]      4\n",
       "10     r              [4944, 7932, 8230]      3\n",
       "3      U                    [1415, 1971]      2\n",
       "4      a                    [2862, 7950]      2\n",
       "5      d                    [0899, 6406]      2\n",
       "12     t                    [4460, 8086]      2\n",
       "1      ,                          [3846]      1\n",
       "2      .                          [9550]      1\n",
       "8      l                          [3832]      1\n",
       "11     s                          [5923]      1\n",
       "13     v                          [1058]      1"
      ]
     },
     "execution_count": 63,
     "metadata": {},
     "output_type": "execute_result"
    }
   ],
   "source": [
    "\n",
    "# create a matrix with the solution, with the values of the dictionary\n",
    "# and the keys of the dictionary, sorted by value\n",
    "\n",
    "print (solucion)\n",
    "\n",
    "matrix = []\n",
    "for key, value in solucion.items():\n",
    "    matrix.append([key, value])\n",
    "\n",
    "matrix.sort(key=lambda x: x[0])\n",
    "\n",
    "# import matrix into a dataframe\n",
    "import pandas as pd\n",
    "\n",
    "df = pd.DataFrame(matrix, columns=['key', 'value'])\n",
    "# group by value, and concatenate the keys into an array\n",
    "df = df.groupby('value').agg(lambda x: list(x)).reset_index()\n",
    "# count the number of keys in each array\n",
    "df['count'] = df['key'].apply(lambda x: len(x))\n",
    "# sort by count\n",
    "df = df.sort_values(by='count', ascending=False)\n",
    "df"
   ]
  }
 ],
 "metadata": {
  "kernelspec": {
   "display_name": "Python 3 (ipykernel)",
   "language": "python",
   "name": "python3"
  },
  "language_info": {
   "codemirror_mode": {
    "name": "ipython",
    "version": 3
   },
   "file_extension": ".py",
   "mimetype": "text/x-python",
   "name": "python",
   "nbconvert_exporter": "python",
   "pygments_lexer": "ipython3",
   "version": "3.10.9"
  },
  "vscode": {
   "interpreter": {
    "hash": "9c35489f7caf60440c1880c3cea6eb5ad83ac8aa1f2d71c95c2cebb9fb57248d"
   }
  }
 },
 "nbformat": 4,
 "nbformat_minor": 5
}
