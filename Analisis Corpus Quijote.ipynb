{
 "cells": [
  {
   "cell_type": "code",
   "execution_count": 1,
   "id": "b23adefe",
   "metadata": {},
   "outputs": [],
   "source": [
    "# %pip install wget\n",
    "# !python -m wget  https://www.gutenberg.org/cache/epub/2000/pg2000.txt"
   ]
  },
  {
   "cell_type": "code",
   "execution_count": 2,
   "id": "c1fa72f9-21b3-41ff-944c-970ae5d4b5c8",
   "metadata": {},
   "outputs": [],
   "source": [
    "import pandas as pd\n",
    "from pathlib import Path"
   ]
  },
  {
   "cell_type": "code",
   "execution_count": 3,
   "id": "64c2a019-bdeb-4dec-8651-83fa15d1855a",
   "metadata": {},
   "outputs": [],
   "source": [
    "import time"
   ]
  },
  {
   "cell_type": "code",
   "execution_count": 4,
   "id": "e7d0e098-9102-4e87-b55d-240d1459e8f1",
   "metadata": {},
   "outputs": [],
   "source": [
    "import itertools"
   ]
  },
  {
   "cell_type": "code",
   "execution_count": 5,
   "id": "4d781e49-f270-4d49-9cb4-6051b5e04b3f",
   "metadata": {},
   "outputs": [],
   "source": [
    "from textwrap import wrap"
   ]
  },
  {
   "cell_type": "code",
   "execution_count": 6,
   "id": "206e7552-a420-4621-8e4c-34fab867aeaa",
   "metadata": {},
   "outputs": [
    {
     "data": {
      "text/plain": [
       "True"
      ]
     },
     "execution_count": 6,
     "metadata": {},
     "output_type": "execute_result"
    }
   ],
   "source": [
    "recursos = Path.cwd() / \"recursos\"\n",
    "pi_file = recursos / 'pi50kdigits.txt'\n",
    "pi_file.exists()\n",
    "\n",
    "quijote_file = recursos / 'pg2000.txt'\n",
    "quijote_file.exists()"
   ]
  },
  {
   "cell_type": "code",
   "execution_count": 7,
   "id": "b6e26498-6528-4a9b-bdd7-21534aa56258",
   "metadata": {},
   "outputs": [
    {
     "name": "stdout",
     "output_type": "stream",
     "text": [
      "91\n",
      "2097953\n"
     ]
    }
   ],
   "source": [
    "# open quijote_file and read it as utf-8    \n",
    "with open(quijote_file, 'r', encoding='utf-8-sig') as file:\n",
    "    # read the file betwtween the 37th and last 372 lines\n",
    "    quijote_data = file.readlines()[36:-372]\n",
    "\n",
    "# join the lines into a single string\n",
    "quijote_data = ''.join(quijote_data)\n",
    "\n",
    "\n",
    "\n",
    "u = len(list( dict.fromkeys(quijote_data)))\n",
    "print(u)\n",
    "\n",
    "\n",
    "# longitud en caracteres del texto\n",
    "l = len(quijote_data)\n",
    "print(l)\n"
   ]
  },
  {
   "attachments": {},
   "cell_type": "markdown",
   "id": "a1b25ed3",
   "metadata": {},
   "source": [
    "comprobamos que en los 2500 primeros caracteres ya tenemos el 70 del charset"
   ]
  },
  {
   "cell_type": "code",
   "execution_count": 8,
   "id": "fa296e4d",
   "metadata": {},
   "outputs": [],
   "source": [
    "\n",
    "# count the number of unique characters cumulatively every 1000 characters\n",
    "\n",
    "u1000list = []\n",
    "for i in range(0,3000,1):\n",
    "    u1000list.append(len(list( dict.fromkeys(quijote_data[:i]))))\n"
   ]
  },
  {
   "cell_type": "code",
   "execution_count": 9,
   "id": "be622338",
   "metadata": {},
   "outputs": [
    {
     "data": {
      "image/png": "[encoded data removed]",
      "text/plain": [
       "<Figure size 432x288 with 1 Axes>"
      ]
     },
     "metadata": {
      "needs_background": "light"
     },
     "output_type": "display_data"
    }
   ],
   "source": [
    "\n",
    "# and plot it in a big graph to see the trend\n",
    "import matplotlib.pyplot as plt\n",
    "# set matplotlib to generate a big graph in high resolution and fill the screen\n",
    "plt.rcParams[\"figure.figsize\"] = (20,10)\n",
    "plt.rcParams[\"figure.dpi\"] = 300\n",
    "plt.rcParams[\"savefig.dpi\"] = 300\n",
    "plt.rcParams[\"savefig.bbox\"] = 'tight'\n",
    "plt.rcParams[\"savefig.pad_inches\"] = 0.1\n",
    "plt.rcParams[\"savefig.transparent\"] = True\n",
    "plt.rcParams[\"savefig.format\"] = 'png'\n",
    "plt.rcParams[\"savefig.facecolor\"] = 'white'\n",
    "plt.rcParams[\"savefig.edgecolor\"] = 'white'\n",
    "plt.rcParams[\"savefig.orientation\"] = 'landscape'\n",
    "\n",
    "\n",
    "plt.plot(u1000list)\n",
    "plt.ylabel('unique characters')\n",
    "plt.xlabel('round')\n",
    "plt.show()\n"
   ]
  },
  {
   "cell_type": "code",
   "execution_count": 10,
   "id": "fa296e4d",
   "metadata": {},
   "outputs": [],
   "source": [
    "# count the number of unique characters cumulatively every 1000 characters\n",
    "\n",
    "u1000list = []\n",
    "for i in range(0,l,1000):\n",
    "    u1000list.append(len(list( dict.fromkeys(quijote_data[:i]))))\n"
   ]
  },
  {
   "cell_type": "code",
   "execution_count": 11,
   "id": "4d3f83b4",
   "metadata": {},
   "outputs": [
    {
     "data": {
      "image/png": "[encoded data removed]",
      "text/plain": [
       "<Figure size 432x288 with 1 Axes>"
      ]
     },
     "metadata": {
      "needs_background": "light"
     },
     "output_type": "display_data"
    }
   ],
   "source": [
    "\n",
    "# and plot it in a big graph to see the trend\n",
    "import matplotlib.pyplot as plt\n",
    "plt.plot(u1000list)\n",
    "plt.ylabel('unique characters')\n",
    "plt.xlabel('characters')\n",
    "plt.show()\n"
   ]
  },
  {
   "cell_type": "code",
   "execution_count": 12,
   "id": "c14b9d1e",
   "metadata": {},
   "outputs": [
    {
     "name": "stdout",
     "output_type": "stream",
     "text": [
      "\n",
      " !\"'(),-.01234567:;?ABCDEFGHIJLMNOPQRSTUVWXYZ]abcdefghijlmnopqrstuvxyz¡«»¿ÁÉÍÑÓÚàáéíïñóùúü 91\n"
     ]
    }
   ],
   "source": [
    "#list the list of unique characters in the text concatenated and sorted alphabetically\n",
    "charset = sorted(list( dict.fromkeys(quijote_data)))\n",
    "\n",
    "print (\"\".join(charset), len(charset))\n"
   ]
  },
  {
   "cell_type": "code",
   "execution_count": 13,
   "id": "13802ad3",
   "metadata": {},
   "outputs": [],
   "source": [
    "# distribution of the characters in the text\n",
    "# this is a dictionary with the character as key and the number of times it appears as value\n",
    "from collections import Counter\n",
    "c = Counter(quijote_data)\n",
    "\n",
    "sorted(c.items(), key=lambda x: x[1], reverse=True)\n",
    "\n",
    "# save the collection sorted by occurences\n",
    "sorted_c = sorted(c.items(), key=lambda x: x[1], reverse=True)\n"
   ]
  },
  {
   "cell_type": "code",
   "execution_count": 14,
   "id": "cedb0be1",
   "metadata": {},
   "outputs": [
    {
     "data": {
      "image/png": "[encoded data removed]",
      "text/plain": [
       "<Figure size 432x288 with 1 Axes>"
      ]
     },
     "metadata": {
      "needs_background": "light"
     },
     "output_type": "display_data"
    }
   ],
   "source": [
    "\n",
    "# plot of the  values in sorted_c list of tuples\n",
    "\n",
    "plt.bar(range(u), [x[1] for x in sorted_c[:u]], align='center')\n",
    "plt.xticks(range(u), [x[0] for x in sorted_c[:u]])\n",
    "plt.show()\n"
   ]
  },
  {
   "cell_type": "code",
   "execution_count": 15,
   "id": "c2a7a258",
   "metadata": {},
   "outputs": [
    {
     "data": {
      "image/png": "[encoded data removed]",
      "text/plain": [
       "<Figure size 432x288 with 1 Axes>"
      ]
     },
     "metadata": {
      "needs_background": "light"
     },
     "output_type": "display_data"
    }
   ],
   "source": [
    "\n",
    "# this bar chart is not very useful, so we can plot it in log scale\n",
    "\n",
    "plt.bar(range(u), [x[1] for x in sorted_c[:u]], align='center')\n",
    "plt.xticks(range(u), [x[0] for x in sorted_c[:u]])\n",
    "plt.yscale('log')\n",
    "plt.show()\n",
    "\n"
   ]
  },
  {
   "cell_type": "code",
   "execution_count": 16,
   "id": "c01a0002",
   "metadata": {},
   "outputs": [
    {
     "name": "stdout",
     "output_type": "stream",
     "text": [
      "Requirement already satisfied: nltk in c:\\users\\joaqu\\anaconda3\\envs\\tfg\\lib\\site-packages (3.8.1)\n",
      "Requirement already satisfied: click in c:\\users\\joaqu\\anaconda3\\envs\\tfg\\lib\\site-packages (from nltk) (8.1.3)\n",
      "Requirement already satisfied: regex>=2021.8.3 in c:\\users\\joaqu\\anaconda3\\envs\\tfg\\lib\\site-packages (from nltk) (2022.10.31)\n",
      "Requirement already satisfied: joblib in c:\\users\\joaqu\\anaconda3\\envs\\tfg\\lib\\site-packages (from nltk) (1.2.0)\n",
      "Requirement already satisfied: tqdm in c:\\users\\joaqu\\anaconda3\\envs\\tfg\\lib\\site-packages (from nltk) (4.64.1)\n",
      "Requirement already satisfied: colorama in c:\\users\\joaqu\\anaconda3\\envs\\tfg\\lib\\site-packages (from click->nltk) (0.4.4)\n",
      "Note: you may need to restart the kernel to use updated packages.\n"
     ]
    },
    {
     "name": "stderr",
     "output_type": "stream",
     "text": [
      "[nltk_data] Downloading package punkt to\n",
      "[nltk_data]     C:\\Users\\Joaqu\\AppData\\Roaming\\nltk_data...\n",
      "[nltk_data]   Package punkt is already up-to-date!\n"
     ]
    },
    {
     "name": "stdout",
     "output_type": "stream",
     "text": [
      "25391\n",
      "91\n"
     ]
    }
   ],
   "source": [
    "# let's continue with the analysis of the text. we are going to tokenize it into words, and then into characters.\n",
    "# we will use the nltk library for this\n",
    "\n",
    "%pip install nltk\n",
    "import nltk\n",
    "nltk.download('punkt')\n",
    "\n",
    "# tokenize the text into words\n",
    "words = nltk.word_tokenize(quijote_data)\n",
    "\n",
    "# tokenize the text into characters\n",
    "chars = list(quijote_data)\n",
    "\n",
    "# count the number of unique words\n",
    "uwords = len(list( dict.fromkeys(words)))\n",
    "print(uwords)\n",
    "\n",
    "# count the number of unique characters\n",
    "uchars = len(list( dict.fromkeys(chars)))\n",
    "print(uchars)\n",
    "\n"
   ]
  },
  {
   "cell_type": "code",
   "execution_count": 17,
   "id": "d0daf824",
   "metadata": {},
   "outputs": [
    {
     "name": "stdout",
     "output_type": "stream",
     "text": [
      "('Quijote', 1642)\n",
      "('Sancho', 1624)\n",
      "('porque', 1330)\n",
      "('había', 1026)\n",
      "('señor', 948)\n",
      "('merced', 900)\n",
      "('-dijo', 877)\n",
      "('vuestra', 813)\n",
      "('-respondió', 813)\n",
      "('todos', 796)\n",
      "('cuando', 711)\n",
      "('donde', 625)\n",
      "('quien', 614)\n",
      "('decir', 577)\n",
      "('caballero', 561)\n",
      "('hacer', 535)\n",
      "('aunque', 525)\n",
      "('Quijote-', 522)\n",
      "('Sancho-', 507)\n",
      "('señora', 501)\n",
      "('aquel', 482)\n",
      "('estaba', 461)\n",
      "('sobre', 450)\n"
     ]
    }
   ],
   "source": [
    "# let's analyze the distribution of the words in the text. we will use the Counter class from collections\n",
    "from collections import Counter\n",
    "cwords = Counter(words)\n",
    "\n",
    "# save the collection sorted by occurences\n",
    "sorted_cwords = sorted(cwords.items(), key=lambda x: x[1], reverse=True)\n",
    "\n",
    "# print the most common words larger than 3 characters\n",
    "for i in range(0,100):\n",
    "    if len(sorted_cwords[i][0]) > 4:\n",
    "        print(sorted_cwords[i]) \n",
    "\n"
   ]
  }
 ],
 "metadata": {
  "kernelspec": {
   "display_name": "TFG",
   "language": "python",
   "name": "python3"
  },
  "language_info": {
   "codemirror_mode": {
    "name": "ipython",
    "version": 3
   },
   "file_extension": ".py",
   "mimetype": "text/x-python",
   "name": "python",
   "nbconvert_exporter": "python",
   "pygments_lexer": "ipython3",
   "version": "3.10.4"
  },
  "vscode": {
   "interpreter": {
    "hash": "9c35489f7caf60440c1880c3cea6eb5ad83ac8aa1f2d71c95c2cebb9fb57248d"
   }
  }
 },
 "nbformat": 4,
 "nbformat_minor": 5
}
