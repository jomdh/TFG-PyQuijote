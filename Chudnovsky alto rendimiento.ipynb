{
 "cells": [
  {
   "cell_type": "markdown",
   "metadata": {},
   "source": []
  },
  {
   "cell_type": "code",
   "execution_count": 1,
   "metadata": {},
   "outputs": [],
   "source": [
    "\"\"\"\n",
    "# implementación del algoritmo de Chudnovsky para calcular pi.\n",
    "# Autor de esta version: J. Martinez @jomdh (github)\n",
    "# basado en el código de Nick Craig-Wood <nick@craig-wood.com>.\n",
    "# url: original http://www.craig-wood.com/nick/articles/pi-chudnovsky/ \n",
    "\"\"\"\n",
    "\n",
    "# importamos las librerías necesarias\n",
    "import math\n",
    "from time import time\n"
   ]
  },
  {
   "cell_type": "code",
   "execution_count": 2,
   "metadata": {},
   "outputs": [],
   "source": [
    "\n",
    "# a modo de referencia,  estos son los primeros 100 dígitos de pi\n",
    "pi = \"3.1415926535897932384626433832795028841971693993751058209749445923078164062862089986280348253421170679\""
   ]
  },
  {
   "cell_type": "markdown",
   "metadata": {},
   "source": [
    "Esta versión mejorada del algoritmo, implementa una función de búsqueda de raices"
   ]
  },
  {
   "cell_type": "code",
   "execution_count": null,
   "metadata": {},
   "outputs": [],
   "source": [
    "def sqrt(n, one):\n",
    "    \"\"\"\n",
    "    # Devuelve la raíz cuadrada de n como un número en coma flotante.\n",
    "    # Utiliza una convergencia de Newton-Raphson de segundo orden. \n",
    "    # duplicando el número de cifras significativas en cada iteración.\n",
    "    \"\"\"\n",
    "\n",
    "    # uso de aritmética de punto flotante para hacer una estimación inicial\n",
    "    floating_point_precision = 10**16\n",
    "\n",
    "    # convertir n a un número de punto flotante\n",
    "    n_float = float((n * floating_point_precision) // one) / floating_point_precision\n",
    "\n",
    "    # calcular la raíz cuadrada de n_float\n",
    "    x = (int(floating_point_precision * math.sqrt(n_float)) * one) // floating_point_precision\n",
    "\n",
    "    # calcular n * one. \n",
    "    n_one = n * one\n",
    "\n",
    "    # iterar hasta que converja a la raíz cuadrada con la precisión deseada.\n",
    "    # mediante la convergencia de Newton-Raphson de segundo orden.\n",
    "    while 1:\n",
    "        x_old = x\n",
    "        # \n",
    "        x = (x + n_one // x) // 2\n",
    "        # si x == x_old, entonces la raíz cuadrada ha convergido\n",
    "        if x == x_old:\n",
    "            break\n",
    "    return x"
   ]
  },
  {
   "cell_type": "code",
   "execution_count": null,
   "metadata": {},
   "outputs": [],
   "source": [
    "def pi_chudnovsky_bs(digits):\n",
    "    \"\"\"\n",
    "    Compute int(pi * 10**digits)\n",
    "\n",
    "    This is done using Chudnovsky's series with binary splitting\n",
    "    \"\"\"\n",
    "\n",
    "    # 640320 es el número de Bernoulli\n",
    "    C = 640320\n",
    "    C3_OVER_24 = C**3 // 24\n",
    "    def bs(a, b):\n",
    "        \"\"\"\n",
    "        Computes the terms for binary splitting the Chudnovsky infinite series\n",
    "\n",
    "        a(a) = +/- (13591409 + 545140134*a)\n",
    "        p(a) = (6*a-5)*(2*a-1)*(6*a-1)\n",
    "        b(a) = 1\n",
    "        q(a) = a*a*a*C3_OVER_24\n",
    "\n",
    "        returns P(a,b), Q(a,b) and T(a,b)\n",
    "        \"\"\"\n",
    "        if b - a == 1:\n",
    "            # Directly compute P(a,a+1), Q(a,a+1) and T(a,a+1)\n",
    "            if a == 0:\n",
    "                Pab = Qab = 1\n",
    "            else:\n",
    "                Pab = (6*a-5)*(2*a-1)*(6*a-1)\n",
    "                Qab = a*a*a*C3_OVER_24\n",
    "            Tab = Pab * (13591409 + 545140134*a) # a(a) * p(a)\n",
    "            if a & 1:\n",
    "                Tab = -Tab\n",
    "        else:\n",
    "            # Recursively compute P(a,b), Q(a,b) and T(a,b)\n",
    "            # m is the midpoint of a and b\n",
    "            m = (a + b) // 2\n",
    "            # Recursively calculate P(a,m), Q(a,m) and T(a,m)\n",
    "            Pam, Qam, Tam = bs(a, m)\n",
    "            # Recursively calculate P(m,b), Q(m,b) and T(m,b)\n",
    "            Pmb, Qmb, Tmb = bs(m, b)\n",
    "            # Now combine\n",
    "            Pab = Pam * Pmb\n",
    "            Qab = Qam * Qmb\n",
    "            Tab = Qmb * Tam + Pam * Tmb\n",
    "        return Pab, Qab, Tab\n",
    "    # how many terms to compute\n",
    "    DIGITS_PER_TERM = math.log10(C3_OVER_24/6/2/6)\n",
    "    N = int(digits/DIGITS_PER_TERM + 1)\n",
    "    # Calclate P(0,N) and Q(0,N)\n",
    "    P, Q, T = bs(0, N)\n",
    "    one = 10**digits\n",
    "    sqrtC = sqrt(10005*one, one)\n",
    "    return (Q*426880*sqrtC) // T\n"
   ]
  },
  {
   "cell_type": "code",
   "execution_count": null,
   "metadata": {},
   "outputs": [],
   "source": [
    "\n",
    "# The last 5 digits or pi for various numbers of digits\n",
    "check_digits = {\n",
    "        100 : 70679,\n",
    "       1000 :  1989,\n",
    "      10000 : 75678,\n",
    "     100000 : 24646,\n",
    "    1000000 : 58151,\n",
    "   10000000 : 55897,\n",
    "}\n"
   ]
  },
  {
   "cell_type": "code",
   "execution_count": null,
   "metadata": {},
   "outputs": [],
   "source": [
    "\n",
    "if __name__ == \"__main__\":\n",
    "    digits = 100\n",
    "    pi = pi_chudnovsky_bs(digits)\n",
    "    print(pi)\n",
    "    #raise SystemExit\n",
    "    for log10_digits in range(1,7):\n",
    "        digits = 10**log10_digits\n",
    "        start =time()\n",
    "        pi = pi_chudnovsky_bs(digits)\n",
    "        print(\"chudnovsky_gmpy_bs: digits\",digits,\"time\",time()-start)\n",
    "        if digits in check_digits:\n",
    "            last_five_digits = pi % 100000\n",
    "            if check_digits[digits] == last_five_digits:\n",
    "                print(\"Last 5 digits %05d OK\" % last_five_digits)\n",
    "            else:\n",
    "                print(\"Last 5 digits %05d wrong should be %05d\" % (last_five_digits, check_digits[digits]))\n"
   ]
  }
 ],
 "metadata": {
  "kernelspec": {
   "display_name": "Python 3 (ipykernel)",
   "language": "python",
   "name": "python3"
  },
  "language_info": {
   "codemirror_mode": {
    "name": "ipython",
    "version": 3
   },
   "file_extension": ".py",
   "mimetype": "text/x-python",
   "name": "python",
   "nbconvert_exporter": "python",
   "pygments_lexer": "ipython3",
   "version": "3.10.9"
  },
  "vscode": {
   "interpreter": {
    "hash": "9c35489f7caf60440c1880c3cea6eb5ad83ac8aa1f2d71c95c2cebb9fb57248d"
   }
  }
 },
 "nbformat": 4,
 "nbformat_minor": 4
}
